{
  "nbformat": 4,
  "nbformat_minor": 0,
  "metadata": {
    "colab": {
      "name": "ass3_extra-cifar10-vgg16.ipynb",
      "provenance": [],
      "collapsed_sections": [],
      "toc_visible": true,
      "authorship_tag": "ABX9TyNMxKNH5YBnPW7R8FSczvu7"
    },
    "kernelspec": {
      "name": "python3",
      "display_name": "Python 3"
    },
    "accelerator": "GPU"
  },
  "cells": [
    {
      "cell_type": "markdown",
      "metadata": {
        "id": "HzfBc027y6q8",
        "colab_type": "text"
      },
      "source": [
        "# Assignment 3 - Extra : CIFAR-10"
      ]
    },
    {
      "cell_type": "markdown",
      "metadata": {
        "id": "niMziGU5y7sJ",
        "colab_type": "text"
      },
      "source": [
        "## Import Data"
      ]
    },
    {
      "cell_type": "code",
      "metadata": {
        "id": "rS6nu57pY3t9",
        "colab_type": "code",
        "colab": {
          "base_uri": "https://localhost:8080/",
          "height": 190
        },
        "outputId": "5f29248a-131c-4f94-d44f-efc6d310b976"
      },
      "source": [
        "! pip install ipython-autotime\n",
        "\n",
        "%load_ext autotime"
      ],
      "execution_count": null,
      "outputs": [
        {
          "output_type": "stream",
          "text": [
            "Collecting ipython-autotime\n",
            "  Downloading https://files.pythonhosted.org/packages/e6/f9/0626bbdb322e3a078d968e87e3b01341e7890544de891d0cb613641220e6/ipython-autotime-0.1.tar.bz2\n",
            "Building wheels for collected packages: ipython-autotime\n",
            "  Building wheel for ipython-autotime (setup.py) ... \u001b[?25l\u001b[?25hdone\n",
            "  Created wheel for ipython-autotime: filename=ipython_autotime-0.1-cp36-none-any.whl size=1832 sha256=7103e0feeb543897334736ca003386b60da361124a3510d37d9e50d89a05d274\n",
            "  Stored in directory: /root/.cache/pip/wheels/d2/df/81/2db1e54bc91002cec40334629bc39cfa86dff540b304ebcd6e\n",
            "Successfully built ipython-autotime\n",
            "Installing collected packages: ipython-autotime\n",
            "Successfully installed ipython-autotime-0.1\n"
          ],
          "name": "stdout"
        }
      ]
    },
    {
      "cell_type": "code",
      "metadata": {
        "id": "NJW2UA2r05bm",
        "colab_type": "code",
        "colab": {
          "base_uri": "https://localhost:8080/",
          "height": 34
        },
        "outputId": "22208b32-a43f-4e80-8517-78509d7826e7"
      },
      "source": [
        "import numpy as np\n",
        "import pickle\n",
        "import tensorflow as tf"
      ],
      "execution_count": null,
      "outputs": [
        {
          "output_type": "stream",
          "text": [
            "time: 1.71 s\n"
          ],
          "name": "stdout"
        }
      ]
    },
    {
      "cell_type": "code",
      "metadata": {
        "id": "G2_kniLz1SIi",
        "colab_type": "code",
        "colab": {
          "base_uri": "https://localhost:8080/",
          "height": 68
        },
        "outputId": "f7be60c2-7549-40c2-bf8d-ef77aba47ba8"
      },
      "source": [
        "(X_train, y_train), (X_test, y_test) = tf.keras.datasets.cifar10.load_data()"
      ],
      "execution_count": null,
      "outputs": [
        {
          "output_type": "stream",
          "text": [
            "Downloading data from https://www.cs.toronto.edu/~kriz/cifar-10-python.tar.gz\n",
            "170500096/170498071 [==============================] - 2s 0us/step\n",
            "time: 4.43 s\n"
          ],
          "name": "stdout"
        }
      ]
    },
    {
      "cell_type": "code",
      "metadata": {
        "id": "sinvl8xL1Yu1",
        "colab_type": "code",
        "colab": {
          "base_uri": "https://localhost:8080/",
          "height": 34
        },
        "outputId": "b87e4767-9764-4f43-c82f-42e9d8b34a11"
      },
      "source": [
        "X_train.shape"
      ],
      "execution_count": null,
      "outputs": [
        {
          "output_type": "execute_result",
          "data": {
            "text/plain": [
              "(50000, 32, 32, 3)"
            ]
          },
          "metadata": {
            "tags": []
          },
          "execution_count": 4
        },
        {
          "output_type": "stream",
          "text": [
            "time: 4.12 ms\n"
          ],
          "name": "stdout"
        }
      ]
    },
    {
      "cell_type": "markdown",
      "metadata": {
        "id": "zRnUtP522I9W",
        "colab_type": "text"
      },
      "source": [
        "## Preprocessing"
      ]
    },
    {
      "cell_type": "code",
      "metadata": {
        "id": "VY_Z9dEC5qzG",
        "colab_type": "code",
        "colab": {
          "base_uri": "https://localhost:8080/",
          "height": 34
        },
        "outputId": "ccd158cf-5ae9-4e6b-9e19-f179153e85a4"
      },
      "source": [
        "ImgDatagenProperty = {\n",
        "    'rescale' : 1/255,\n",
        "    'rotation_range' : 40,\n",
        "    'width_shift_range' : 0.3,\n",
        "    'height_shift_range' : 0.3,\n",
        "    'shear_range' : 0.3,\n",
        "    'zoom_range' : 0.3,\n",
        "    'horizontal_flip' : True,\n",
        "    'fill_mode' : 'nearest'\n",
        "}"
      ],
      "execution_count": null,
      "outputs": [
        {
          "output_type": "stream",
          "text": [
            "time: 4.88 ms\n"
          ],
          "name": "stdout"
        }
      ]
    },
    {
      "cell_type": "code",
      "metadata": {
        "id": "R2kiwhAUag6S",
        "colab_type": "code",
        "colab": {
          "base_uri": "https://localhost:8080/",
          "height": 34
        },
        "outputId": "0514edc2-ac78-462a-a156-4d62d9c66bcd"
      },
      "source": [
        "ImgValDatagenProperty = {\n",
        "    'rescale' : 1/255,\n",
        "}"
      ],
      "execution_count": null,
      "outputs": [
        {
          "output_type": "stream",
          "text": [
            "time: 2.05 ms\n"
          ],
          "name": "stdout"
        }
      ]
    },
    {
      "cell_type": "code",
      "metadata": {
        "id": "q1OmRZK65qyy",
        "colab_type": "code",
        "colab": {
          "base_uri": "https://localhost:8080/",
          "height": 34
        },
        "outputId": "a6f96ac9-5c16-49ee-a005-f2034bfecbf7"
      },
      "source": [
        "ImgModelProperty = {\n",
        "    'img_height' : 32,\n",
        "    'img_width' : 32,\n",
        "    'num_class' : 10,\n",
        "    'epoch' : 50,\n",
        "    'batch_size' : 128,\n",
        "}"
      ],
      "execution_count": null,
      "outputs": [
        {
          "output_type": "stream",
          "text": [
            "time: 2.99 ms\n"
          ],
          "name": "stdout"
        }
      ]
    },
    {
      "cell_type": "code",
      "metadata": {
        "id": "1tOud9J35qyP",
        "colab_type": "code",
        "colab": {
          "base_uri": "https://localhost:8080/",
          "height": 34
        },
        "outputId": "5f770380-2304-433f-84b5-7bde88046289"
      },
      "source": [
        "import tensorflow as tf\n",
        "\n",
        "train_datagen = tf.keras.preprocessing.image.ImageDataGenerator(**ImgDatagenProperty).flow(X_train, y_train, batch_size=ImgModelProperty['batch_size'], seed=5555, shuffle=True)\n",
        "val_datagen = tf.keras.preprocessing.image.ImageDataGenerator(**ImgValDatagenProperty).flow(X_test, y_test, batch_size=ImgModelProperty['batch_size'], seed=5555, shuffle=True)"
      ],
      "execution_count": null,
      "outputs": [
        {
          "output_type": "stream",
          "text": [
            "time: 235 ms\n"
          ],
          "name": "stdout"
        }
      ]
    },
    {
      "cell_type": "markdown",
      "metadata": {
        "id": "MJdngfbn90Qa",
        "colab_type": "text"
      },
      "source": [
        "## Model"
      ]
    },
    {
      "cell_type": "markdown",
      "metadata": {
        "id": "0U1arsQIZhT7",
        "colab_type": "text"
      },
      "source": [
        "https://www.tensorflow.org/api_docs/python/tf/keras/applications/inception_v3/preprocess_input"
      ]
    },
    {
      "cell_type": "code",
      "metadata": {
        "id": "pK665HEQ91Sd",
        "colab_type": "code",
        "colab": {
          "base_uri": "https://localhost:8080/",
          "height": 34
        },
        "outputId": "993b39ae-4901-4af8-b44f-801823764840"
      },
      "source": [
        "import tensorflow as tf\n",
        "\n",
        "def BuildModel(input_dim = (32, 32, 3), n_class = 10) -> tf.keras.Sequential :\n",
        "    model = tf.keras.Sequential()\n",
        "    model.add(tf.keras.applications.vgg16.VGG16(include_top=False, weights='imagenet', input_shape=input_dim))\n",
        "    model.add(tf.keras.layers.GlobalAveragePooling2D())\n",
        "    model.add(tf.keras.layers.Dense(128, activation=tf.keras.activations.relu))\n",
        "    model.add(tf.keras.layers.Dropout(0.3))\n",
        "    model.add(tf.keras.layers.Dense(32, activation=tf.keras.activations.relu))\n",
        "    model.add(tf.keras.layers.Dense(10, activation=tf.keras.activations.softmax))\n",
        "    # padding_input = tf.keras.layers.ZeroPadding2D(padding=(96, 96), input_shape=input_dim)\n",
        "    # pretrained = tf.keras.applications.inception_v3.InceptionV3(include_top=False, weights='imagenet')(padding_input)\n",
        "\n",
        "    # model = tf.keras.Model(padding_input.input, pretrained)\n",
        "    return model    "
      ],
      "execution_count": null,
      "outputs": [
        {
          "output_type": "stream",
          "text": [
            "time: 14.8 ms\n"
          ],
          "name": "stdout"
        }
      ]
    },
    {
      "cell_type": "code",
      "metadata": {
        "id": "xepDeA9nQst-",
        "colab_type": "code",
        "colab": {
          "base_uri": "https://localhost:8080/",
          "height": 88
        },
        "outputId": "770caaef-9f8f-48ae-bb74-9499dc86c8c6"
      },
      "source": [
        "model = BuildModel()"
      ],
      "execution_count": null,
      "outputs": [
        {
          "output_type": "stream",
          "text": [
            "Downloading data from https://storage.googleapis.com/tensorflow/keras-applications/vgg16/vgg16_weights_tf_dim_ordering_tf_kernels_notop.h5\n",
            "58892288/58889256 [==============================] - 1s 0us/step\n",
            "time: 8.52 s\n"
          ],
          "name": "stdout"
        }
      ]
    },
    {
      "cell_type": "code",
      "metadata": {
        "id": "m3dTkT6DTInr",
        "colab_type": "code",
        "colab": {
          "base_uri": "https://localhost:8080/",
          "height": 374
        },
        "outputId": "26c63ca4-401a-4209-e283-61c32b47e24c"
      },
      "source": [
        "model.summary()"
      ],
      "execution_count": null,
      "outputs": [
        {
          "output_type": "stream",
          "text": [
            "Model: \"sequential\"\n",
            "_________________________________________________________________\n",
            "Layer (type)                 Output Shape              Param #   \n",
            "=================================================================\n",
            "vgg16 (Model)                (None, 1, 1, 512)         14714688  \n",
            "_________________________________________________________________\n",
            "global_average_pooling2d (Gl (None, 512)               0         \n",
            "_________________________________________________________________\n",
            "dense (Dense)                (None, 128)               65664     \n",
            "_________________________________________________________________\n",
            "dropout (Dropout)            (None, 128)               0         \n",
            "_________________________________________________________________\n",
            "dense_1 (Dense)              (None, 32)                4128      \n",
            "_________________________________________________________________\n",
            "dense_2 (Dense)              (None, 10)                330       \n",
            "=================================================================\n",
            "Total params: 14,784,810\n",
            "Trainable params: 14,784,810\n",
            "Non-trainable params: 0\n",
            "_________________________________________________________________\n",
            "time: 15.7 ms\n"
          ],
          "name": "stdout"
        }
      ]
    },
    {
      "cell_type": "code",
      "metadata": {
        "id": "1ZhQJF14VPnG",
        "colab_type": "code",
        "colab": {
          "base_uri": "https://localhost:8080/",
          "height": 34
        },
        "outputId": "64ce12eb-51fc-4c0e-9bca-40dad6953403"
      },
      "source": [
        "model.compile(\n",
        "    optimizer=tf.keras.optimizers.Adam(1e-3), loss=tf.keras.losses.SparseCategoricalCrossentropy(), metrics=[tf.keras.metrics.sparse_categorical_accuracy]\n",
        ")"
      ],
      "execution_count": null,
      "outputs": [
        {
          "output_type": "stream",
          "text": [
            "time: 24.4 ms\n"
          ],
          "name": "stdout"
        }
      ]
    },
    {
      "cell_type": "code",
      "metadata": {
        "id": "-p3pX0p0doxQ",
        "colab_type": "code",
        "colab": {
          "base_uri": "https://localhost:8080/",
          "height": 34
        },
        "outputId": "8313d90f-a2c5-4566-ee08-dfd6c20be914"
      },
      "source": [
        "import tensorflow as tf\n",
        "\n",
        "red = tf.keras.callbacks.ReduceLROnPlateau(monitor='val_loss', factor=0.5, patience=2, verbose=1, mode='auto', min_lr=1e-5)"
      ],
      "execution_count": null,
      "outputs": [
        {
          "output_type": "stream",
          "text": [
            "time: 2.69 ms\n"
          ],
          "name": "stdout"
        }
      ]
    },
    {
      "cell_type": "code",
      "metadata": {
        "id": "xvoemUYtdqBG",
        "colab_type": "code",
        "colab": {
          "base_uri": "https://localhost:8080/",
          "height": 34
        },
        "outputId": "947181ee-6832-47fb-bc32-e6e06c6b2c57"
      },
      "source": [
        "%load_ext tensorboard\n",
        "! rm -rf ./logs/ "
      ],
      "execution_count": null,
      "outputs": [
        {
          "output_type": "stream",
          "text": [
            "time: 1.83 s\n"
          ],
          "name": "stdout"
        }
      ]
    },
    {
      "cell_type": "code",
      "metadata": {
        "id": "K9jRHuf4dqAy",
        "colab_type": "code",
        "colab": {
          "base_uri": "https://localhost:8080/",
          "height": 34
        },
        "outputId": "ced9257d-134d-4ccc-a3b3-0c1c25447cfb"
      },
      "source": [
        "import datetime\n",
        "log_dir = 'logs/fit/' + datetime.datetime.now().strftime(\"%Y%m%d-%H%M%S\")\n",
        "tsb = tf.keras.callbacks.TensorBoard(log_dir=log_dir, histogram_freq=1)"
      ],
      "execution_count": null,
      "outputs": [
        {
          "output_type": "stream",
          "text": [
            "time: 199 ms\n"
          ],
          "name": "stdout"
        }
      ]
    },
    {
      "cell_type": "code",
      "metadata": {
        "id": "HS4n9rR7VoeO",
        "colab_type": "code",
        "colab": {
          "base_uri": "https://localhost:8080/",
          "height": 1000
        },
        "outputId": "d5bde080-2a26-4405-970d-30c9271ff504"
      },
      "source": [
        "model.fit(\n",
        "    train_datagen, \n",
        "    epochs=ImgModelProperty['epoch'],\n",
        "    validation_data=val_datagen,\n",
        "    callbacks=[red, tsb]\n",
        ")"
      ],
      "execution_count": null,
      "outputs": [
        {
          "output_type": "stream",
          "text": [
            "Epoch 1/50\n",
            "391/391 [==============================] - 71s 182ms/step - loss: 2.0360 - sparse_categorical_accuracy: 0.1903 - val_loss: 1.9038 - val_sparse_categorical_accuracy: 0.2113 - lr: 0.0010\n",
            "Epoch 2/50\n",
            "391/391 [==============================] - 68s 174ms/step - loss: 1.7859 - sparse_categorical_accuracy: 0.2903 - val_loss: 1.5477 - val_sparse_categorical_accuracy: 0.3919 - lr: 0.0010\n",
            "Epoch 3/50\n",
            "391/391 [==============================] - 68s 174ms/step - loss: 1.5754 - sparse_categorical_accuracy: 0.3869 - val_loss: 1.4103 - val_sparse_categorical_accuracy: 0.4543 - lr: 0.0010\n",
            "Epoch 4/50\n",
            "391/391 [==============================] - 68s 174ms/step - loss: 1.4281 - sparse_categorical_accuracy: 0.4625 - val_loss: 1.3736 - val_sparse_categorical_accuracy: 0.4926 - lr: 0.0010\n",
            "Epoch 5/50\n",
            "391/391 [==============================] - 68s 174ms/step - loss: 1.3148 - sparse_categorical_accuracy: 0.5219 - val_loss: 1.1316 - val_sparse_categorical_accuracy: 0.5991 - lr: 0.0010\n",
            "Epoch 6/50\n",
            "391/391 [==============================] - 68s 173ms/step - loss: 1.1993 - sparse_categorical_accuracy: 0.5761 - val_loss: 1.1127 - val_sparse_categorical_accuracy: 0.6179 - lr: 0.0010\n",
            "Epoch 7/50\n",
            "391/391 [==============================] - 68s 174ms/step - loss: 1.1432 - sparse_categorical_accuracy: 0.6018 - val_loss: 1.0251 - val_sparse_categorical_accuracy: 0.6421 - lr: 0.0010\n",
            "Epoch 8/50\n",
            "391/391 [==============================] - 68s 174ms/step - loss: 1.0786 - sparse_categorical_accuracy: 0.6250 - val_loss: 1.0167 - val_sparse_categorical_accuracy: 0.6522 - lr: 0.0010\n",
            "Epoch 9/50\n",
            "391/391 [==============================] - 68s 174ms/step - loss: 1.0246 - sparse_categorical_accuracy: 0.6462 - val_loss: 0.8556 - val_sparse_categorical_accuracy: 0.7060 - lr: 0.0010\n",
            "Epoch 10/50\n",
            "391/391 [==============================] - 68s 174ms/step - loss: 0.9843 - sparse_categorical_accuracy: 0.6628 - val_loss: 0.9668 - val_sparse_categorical_accuracy: 0.6861 - lr: 0.0010\n",
            "Epoch 11/50\n",
            "391/391 [==============================] - 68s 174ms/step - loss: 0.9538 - sparse_categorical_accuracy: 0.6762 - val_loss: 0.8400 - val_sparse_categorical_accuracy: 0.7136 - lr: 0.0010\n",
            "Epoch 12/50\n",
            "391/391 [==============================] - 68s 174ms/step - loss: 0.9131 - sparse_categorical_accuracy: 0.6931 - val_loss: 0.7956 - val_sparse_categorical_accuracy: 0.7300 - lr: 0.0010\n",
            "Epoch 13/50\n",
            "391/391 [==============================] - 68s 174ms/step - loss: 0.8883 - sparse_categorical_accuracy: 0.6996 - val_loss: 0.8798 - val_sparse_categorical_accuracy: 0.7215 - lr: 0.0010\n",
            "Epoch 14/50\n",
            "391/391 [==============================] - 68s 174ms/step - loss: 0.8688 - sparse_categorical_accuracy: 0.7098 - val_loss: 0.7944 - val_sparse_categorical_accuracy: 0.7286 - lr: 0.0010\n",
            "Epoch 15/50\n",
            "391/391 [==============================] - 68s 173ms/step - loss: 0.8345 - sparse_categorical_accuracy: 0.7213 - val_loss: 0.8100 - val_sparse_categorical_accuracy: 0.7455 - lr: 0.0010\n",
            "Epoch 16/50\n",
            "391/391 [==============================] - 71s 180ms/step - loss: 0.8205 - sparse_categorical_accuracy: 0.7267 - val_loss: 0.7302 - val_sparse_categorical_accuracy: 0.7592 - lr: 0.0010\n",
            "Epoch 17/50\n",
            "391/391 [==============================] - 69s 177ms/step - loss: 0.8000 - sparse_categorical_accuracy: 0.7333 - val_loss: 0.8221 - val_sparse_categorical_accuracy: 0.7296 - lr: 0.0010\n",
            "Epoch 18/50\n",
            "391/391 [==============================] - ETA: 0s - loss: 0.7826 - sparse_categorical_accuracy: 0.7410\n",
            "Epoch 00018: ReduceLROnPlateau reducing learning rate to 0.0005000000237487257.\n",
            "391/391 [==============================] - 69s 178ms/step - loss: 0.7826 - sparse_categorical_accuracy: 0.7410 - val_loss: 0.7431 - val_sparse_categorical_accuracy: 0.7555 - lr: 0.0010\n",
            "Epoch 19/50\n",
            "391/391 [==============================] - 69s 177ms/step - loss: 0.6883 - sparse_categorical_accuracy: 0.7693 - val_loss: 0.6580 - val_sparse_categorical_accuracy: 0.7786 - lr: 5.0000e-04\n",
            "Epoch 20/50\n",
            "391/391 [==============================] - 69s 176ms/step - loss: 0.6656 - sparse_categorical_accuracy: 0.7762 - val_loss: 0.6575 - val_sparse_categorical_accuracy: 0.7850 - lr: 5.0000e-04\n",
            "Epoch 21/50\n",
            "391/391 [==============================] - 68s 175ms/step - loss: 0.6588 - sparse_categorical_accuracy: 0.7796 - val_loss: 0.5895 - val_sparse_categorical_accuracy: 0.8023 - lr: 5.0000e-04\n",
            "Epoch 22/50\n",
            "391/391 [==============================] - 69s 176ms/step - loss: 0.6434 - sparse_categorical_accuracy: 0.7845 - val_loss: 0.6134 - val_sparse_categorical_accuracy: 0.8038 - lr: 5.0000e-04\n",
            "Epoch 23/50\n",
            "391/391 [==============================] - ETA: 0s - loss: 0.6332 - sparse_categorical_accuracy: 0.7888\n",
            "Epoch 00023: ReduceLROnPlateau reducing learning rate to 0.0002500000118743628.\n",
            "391/391 [==============================] - 69s 175ms/step - loss: 0.6332 - sparse_categorical_accuracy: 0.7888 - val_loss: 0.6196 - val_sparse_categorical_accuracy: 0.7923 - lr: 5.0000e-04\n",
            "Epoch 24/50\n",
            "391/391 [==============================] - 69s 175ms/step - loss: 0.5860 - sparse_categorical_accuracy: 0.8037 - val_loss: 0.5943 - val_sparse_categorical_accuracy: 0.8066 - lr: 2.5000e-04\n",
            "Epoch 25/50\n",
            "391/391 [==============================] - 69s 176ms/step - loss: 0.5754 - sparse_categorical_accuracy: 0.8079 - val_loss: 0.5861 - val_sparse_categorical_accuracy: 0.8089 - lr: 2.5000e-04\n",
            "Epoch 26/50\n",
            "391/391 [==============================] - 69s 176ms/step - loss: 0.5660 - sparse_categorical_accuracy: 0.8099 - val_loss: 0.5801 - val_sparse_categorical_accuracy: 0.8111 - lr: 2.5000e-04\n",
            "Epoch 27/50\n",
            "391/391 [==============================] - 69s 176ms/step - loss: 0.5573 - sparse_categorical_accuracy: 0.8138 - val_loss: 0.5199 - val_sparse_categorical_accuracy: 0.8256 - lr: 2.5000e-04\n",
            "Epoch 28/50\n",
            "391/391 [==============================] - 69s 176ms/step - loss: 0.5420 - sparse_categorical_accuracy: 0.8192 - val_loss: 0.5802 - val_sparse_categorical_accuracy: 0.8166 - lr: 2.5000e-04\n",
            "Epoch 29/50\n",
            "391/391 [==============================] - ETA: 0s - loss: 0.5431 - sparse_categorical_accuracy: 0.8155\n",
            "Epoch 00029: ReduceLROnPlateau reducing learning rate to 0.0001250000059371814.\n",
            "391/391 [==============================] - 69s 176ms/step - loss: 0.5431 - sparse_categorical_accuracy: 0.8155 - val_loss: 0.5564 - val_sparse_categorical_accuracy: 0.8204 - lr: 2.5000e-04\n",
            "Epoch 30/50\n",
            "391/391 [==============================] - 69s 176ms/step - loss: 0.5247 - sparse_categorical_accuracy: 0.8250 - val_loss: 0.5126 - val_sparse_categorical_accuracy: 0.8322 - lr: 1.2500e-04\n",
            "Epoch 31/50\n",
            "391/391 [==============================] - 69s 176ms/step - loss: 0.5092 - sparse_categorical_accuracy: 0.8302 - val_loss: 0.5369 - val_sparse_categorical_accuracy: 0.8297 - lr: 1.2500e-04\n",
            "Epoch 32/50\n",
            "391/391 [==============================] - ETA: 0s - loss: 0.5087 - sparse_categorical_accuracy: 0.8294\n",
            "Epoch 00032: ReduceLROnPlateau reducing learning rate to 6.25000029685907e-05.\n",
            "391/391 [==============================] - 69s 176ms/step - loss: 0.5087 - sparse_categorical_accuracy: 0.8294 - val_loss: 0.5286 - val_sparse_categorical_accuracy: 0.8288 - lr: 1.2500e-04\n",
            "Epoch 33/50\n",
            "391/391 [==============================] - 69s 177ms/step - loss: 0.4916 - sparse_categorical_accuracy: 0.8363 - val_loss: 0.5086 - val_sparse_categorical_accuracy: 0.8356 - lr: 6.2500e-05\n",
            "Epoch 34/50\n",
            "391/391 [==============================] - 69s 177ms/step - loss: 0.4832 - sparse_categorical_accuracy: 0.8364 - val_loss: 0.5001 - val_sparse_categorical_accuracy: 0.8365 - lr: 6.2500e-05\n",
            "Epoch 35/50\n",
            "391/391 [==============================] - 68s 174ms/step - loss: 0.4864 - sparse_categorical_accuracy: 0.8367 - val_loss: 0.5173 - val_sparse_categorical_accuracy: 0.8302 - lr: 6.2500e-05\n",
            "Epoch 36/50\n",
            "391/391 [==============================] - 68s 174ms/step - loss: 0.4882 - sparse_categorical_accuracy: 0.8370 - val_loss: 0.4991 - val_sparse_categorical_accuracy: 0.8354 - lr: 6.2500e-05\n",
            "Epoch 37/50\n",
            "391/391 [==============================] - 68s 174ms/step - loss: 0.4807 - sparse_categorical_accuracy: 0.8390 - val_loss: 0.5009 - val_sparse_categorical_accuracy: 0.8361 - lr: 6.2500e-05\n",
            "Epoch 38/50\n",
            "391/391 [==============================] - ETA: 0s - loss: 0.4813 - sparse_categorical_accuracy: 0.8382\n",
            "Epoch 00038: ReduceLROnPlateau reducing learning rate to 5e-05.\n",
            "391/391 [==============================] - 68s 174ms/step - loss: 0.4813 - sparse_categorical_accuracy: 0.8382 - val_loss: 0.5060 - val_sparse_categorical_accuracy: 0.8349 - lr: 6.2500e-05\n",
            "Epoch 39/50\n",
            "391/391 [==============================] - 68s 174ms/step - loss: 0.4767 - sparse_categorical_accuracy: 0.8399 - val_loss: 0.5135 - val_sparse_categorical_accuracy: 0.8332 - lr: 5.0000e-05\n",
            "Epoch 40/50\n",
            "391/391 [==============================] - 68s 174ms/step - loss: 0.4769 - sparse_categorical_accuracy: 0.8384 - val_loss: 0.4873 - val_sparse_categorical_accuracy: 0.8393 - lr: 5.0000e-05\n",
            "Epoch 41/50\n",
            "391/391 [==============================] - 68s 174ms/step - loss: 0.4687 - sparse_categorical_accuracy: 0.8418 - val_loss: 0.5020 - val_sparse_categorical_accuracy: 0.8355 - lr: 5.0000e-05\n",
            "Epoch 42/50\n",
            "391/391 [==============================] - 68s 174ms/step - loss: 0.4701 - sparse_categorical_accuracy: 0.8410 - val_loss: 0.4984 - val_sparse_categorical_accuracy: 0.8338 - lr: 5.0000e-05\n",
            "Epoch 43/50\n",
            "391/391 [==============================] - 68s 174ms/step - loss: 0.4733 - sparse_categorical_accuracy: 0.8420 - val_loss: 0.4853 - val_sparse_categorical_accuracy: 0.8384 - lr: 5.0000e-05\n",
            "Epoch 44/50\n",
            "391/391 [==============================] - 68s 174ms/step - loss: 0.4642 - sparse_categorical_accuracy: 0.8445 - val_loss: 0.5074 - val_sparse_categorical_accuracy: 0.8354 - lr: 5.0000e-05\n",
            "Epoch 45/50\n",
            "391/391 [==============================] - 68s 174ms/step - loss: 0.4698 - sparse_categorical_accuracy: 0.8413 - val_loss: 0.4890 - val_sparse_categorical_accuracy: 0.8382 - lr: 5.0000e-05\n",
            "Epoch 46/50\n",
            "391/391 [==============================] - 68s 174ms/step - loss: 0.4631 - sparse_categorical_accuracy: 0.8451 - val_loss: 0.5147 - val_sparse_categorical_accuracy: 0.8331 - lr: 5.0000e-05\n",
            "Epoch 47/50\n",
            "391/391 [==============================] - 68s 174ms/step - loss: 0.4628 - sparse_categorical_accuracy: 0.8466 - val_loss: 0.4804 - val_sparse_categorical_accuracy: 0.8406 - lr: 5.0000e-05\n",
            "Epoch 48/50\n",
            "391/391 [==============================] - 68s 174ms/step - loss: 0.4603 - sparse_categorical_accuracy: 0.8436 - val_loss: 0.4770 - val_sparse_categorical_accuracy: 0.8450 - lr: 5.0000e-05\n",
            "Epoch 49/50\n",
            "391/391 [==============================] - 68s 175ms/step - loss: 0.4607 - sparse_categorical_accuracy: 0.8449 - val_loss: 0.4873 - val_sparse_categorical_accuracy: 0.8403 - lr: 5.0000e-05\n",
            "Epoch 50/50\n",
            "391/391 [==============================] - 68s 174ms/step - loss: 0.4590 - sparse_categorical_accuracy: 0.8452 - val_loss: 0.4910 - val_sparse_categorical_accuracy: 0.8396 - lr: 5.0000e-05\n"
          ],
          "name": "stdout"
        },
        {
          "output_type": "execute_result",
          "data": {
            "text/plain": [
              "<tensorflow.python.keras.callbacks.History at 0x7f6a08027358>"
            ]
          },
          "metadata": {
            "tags": []
          },
          "execution_count": 16
        },
        {
          "output_type": "stream",
          "text": [
            "time: 57min 24s\n"
          ],
          "name": "stdout"
        }
      ]
    },
    {
      "cell_type": "code",
      "metadata": {
        "id": "XSYl0V5ydqAc",
        "colab_type": "code",
        "colab": {
          "base_uri": "https://localhost:8080/",
          "height": 838
        },
        "outputId": "d76ad39c-1502-4eb7-cb60-19aced8b3025"
      },
      "source": [
        "%tensorboard --logdir logs/fit"
      ],
      "execution_count": null,
      "outputs": []
    },
    {
      "cell_type": "code",
      "metadata": {
        "id": "FgUJXrR8Txw_",
        "colab_type": "code",
        "colab": {
          "base_uri": "https://localhost:8080/",
          "height": 34
        },
        "outputId": "1f6c0bef-fdc8-4c79-fef8-2aedd432bd8b"
      },
      "source": [
        "# tf.keras.applications.InceptionV3(include_top=False, weights='imagenet', input_shape=(224, 224, 3)).summary()"
      ],
      "execution_count": null,
      "outputs": [
        {
          "output_type": "stream",
          "text": [
            "time: 1.02 ms\n"
          ],
          "name": "stdout"
        }
      ]
    }
  ]
}