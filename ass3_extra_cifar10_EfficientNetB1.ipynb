{
  "nbformat": 4,
  "nbformat_minor": 0,
  "metadata": {
    "colab": {
      "name": "ass3_extra-cifar10-EfficientNetB1.ipynb",
      "provenance": [],
      "collapsed_sections": [],
      "toc_visible": true,
      "authorship_tag": "ABX9TyNeKn8XdG3yjqICiu/ulEY4"
    },
    "kernelspec": {
      "name": "python3",
      "display_name": "Python 3"
    },
    "accelerator": "GPU"
  },
  "cells": [
    {
      "cell_type": "markdown",
      "metadata": {
        "id": "HzfBc027y6q8",
        "colab_type": "text"
      },
      "source": [
        "# Assignment 3 - Extra : CIFAR-10"
      ]
    },
    {
      "cell_type": "markdown",
      "metadata": {
        "id": "5NEHu3-TINhJ",
        "colab_type": "text"
      },
      "source": [
        "https://github.com/kuangliu/pytorch-cifar/blob/master/main.py"
      ]
    },
    {
      "cell_type": "markdown",
      "metadata": {
        "id": "niMziGU5y7sJ",
        "colab_type": "text"
      },
      "source": [
        "## Import Data"
      ]
    },
    {
      "cell_type": "code",
      "metadata": {
        "id": "oC4V6ieJcGDr",
        "colab_type": "code",
        "colab": {
          "base_uri": "https://localhost:8080/",
          "height": 1000
        },
        "outputId": "cebcff25-3713-44a4-958f-806f35726339"
      },
      "source": [
        "! pip install tensorflow==2.3"
      ],
      "execution_count": null,
      "outputs": [
        {
          "output_type": "stream",
          "text": [
            "Collecting tensorflow==2.3\n",
            "\u001b[?25l  Downloading https://files.pythonhosted.org/packages/97/ae/0b08f53498417914f2274cc3b5576d2b83179b0cbb209457d0fde0152174/tensorflow-2.3.0-cp36-cp36m-manylinux2010_x86_64.whl (320.4MB)\n",
            "\u001b[K     |████████████████████████████████| 320.4MB 53kB/s \n",
            "\u001b[?25hRequirement already satisfied: protobuf>=3.9.2 in /usr/local/lib/python3.6/dist-packages (from tensorflow==2.3) (3.12.2)\n",
            "Collecting tensorboard<3,>=2.3.0\n",
            "\u001b[?25l  Downloading https://files.pythonhosted.org/packages/e9/1b/6a420d7e6ba431cf3d51b2a5bfa06a958c4141e3189385963dc7f6fbffb6/tensorboard-2.3.0-py3-none-any.whl (6.8MB)\n",
            "\u001b[K     |████████████████████████████████| 6.8MB 45.6MB/s \n",
            "\u001b[?25hRequirement already satisfied: wrapt>=1.11.1 in /usr/local/lib/python3.6/dist-packages (from tensorflow==2.3) (1.12.1)\n",
            "Requirement already satisfied: six>=1.12.0 in /usr/local/lib/python3.6/dist-packages (from tensorflow==2.3) (1.15.0)\n",
            "Requirement already satisfied: opt-einsum>=2.3.2 in /usr/local/lib/python3.6/dist-packages (from tensorflow==2.3) (3.3.0)\n",
            "Requirement already satisfied: scipy==1.4.1 in /usr/local/lib/python3.6/dist-packages (from tensorflow==2.3) (1.4.1)\n",
            "Requirement already satisfied: absl-py>=0.7.0 in /usr/local/lib/python3.6/dist-packages (from tensorflow==2.3) (0.9.0)\n",
            "Requirement already satisfied: h5py<2.11.0,>=2.10.0 in /usr/local/lib/python3.6/dist-packages (from tensorflow==2.3) (2.10.0)\n",
            "Requirement already satisfied: gast==0.3.3 in /usr/local/lib/python3.6/dist-packages (from tensorflow==2.3) (0.3.3)\n",
            "Requirement already satisfied: numpy<1.19.0,>=1.16.0 in /usr/local/lib/python3.6/dist-packages (from tensorflow==2.3) (1.18.5)\n",
            "Requirement already satisfied: grpcio>=1.8.6 in /usr/local/lib/python3.6/dist-packages (from tensorflow==2.3) (1.30.0)\n",
            "Requirement already satisfied: termcolor>=1.1.0 in /usr/local/lib/python3.6/dist-packages (from tensorflow==2.3) (1.1.0)\n",
            "Requirement already satisfied: keras-preprocessing<1.2,>=1.1.1 in /usr/local/lib/python3.6/dist-packages (from tensorflow==2.3) (1.1.2)\n",
            "Requirement already satisfied: astunparse==1.6.3 in /usr/local/lib/python3.6/dist-packages (from tensorflow==2.3) (1.6.3)\n",
            "Requirement already satisfied: google-pasta>=0.1.8 in /usr/local/lib/python3.6/dist-packages (from tensorflow==2.3) (0.2.0)\n",
            "Requirement already satisfied: wheel>=0.26 in /usr/local/lib/python3.6/dist-packages (from tensorflow==2.3) (0.34.2)\n",
            "Collecting tensorflow-estimator<2.4.0,>=2.3.0\n",
            "\u001b[?25l  Downloading https://files.pythonhosted.org/packages/e9/ed/5853ec0ae380cba4588eab1524e18ece1583b65f7ae0e97321f5ff9dfd60/tensorflow_estimator-2.3.0-py2.py3-none-any.whl (459kB)\n",
            "\u001b[K     |████████████████████████████████| 460kB 52.1MB/s \n",
            "\u001b[?25hRequirement already satisfied: setuptools in /usr/local/lib/python3.6/dist-packages (from protobuf>=3.9.2->tensorflow==2.3) (49.2.0)\n",
            "Requirement already satisfied: markdown>=2.6.8 in /usr/local/lib/python3.6/dist-packages (from tensorboard<3,>=2.3.0->tensorflow==2.3) (3.2.2)\n",
            "Requirement already satisfied: werkzeug>=0.11.15 in /usr/local/lib/python3.6/dist-packages (from tensorboard<3,>=2.3.0->tensorflow==2.3) (1.0.1)\n",
            "Requirement already satisfied: tensorboard-plugin-wit>=1.6.0 in /usr/local/lib/python3.6/dist-packages (from tensorboard<3,>=2.3.0->tensorflow==2.3) (1.7.0)\n",
            "Requirement already satisfied: requests<3,>=2.21.0 in /usr/local/lib/python3.6/dist-packages (from tensorboard<3,>=2.3.0->tensorflow==2.3) (2.23.0)\n",
            "Requirement already satisfied: google-auth<2,>=1.6.3 in /usr/local/lib/python3.6/dist-packages (from tensorboard<3,>=2.3.0->tensorflow==2.3) (1.17.2)\n",
            "Requirement already satisfied: google-auth-oauthlib<0.5,>=0.4.1 in /usr/local/lib/python3.6/dist-packages (from tensorboard<3,>=2.3.0->tensorflow==2.3) (0.4.1)\n",
            "Requirement already satisfied: importlib-metadata; python_version < \"3.8\" in /usr/local/lib/python3.6/dist-packages (from markdown>=2.6.8->tensorboard<3,>=2.3.0->tensorflow==2.3) (1.7.0)\n",
            "Requirement already satisfied: certifi>=2017.4.17 in /usr/local/lib/python3.6/dist-packages (from requests<3,>=2.21.0->tensorboard<3,>=2.3.0->tensorflow==2.3) (2020.6.20)\n",
            "Requirement already satisfied: urllib3!=1.25.0,!=1.25.1,<1.26,>=1.21.1 in /usr/local/lib/python3.6/dist-packages (from requests<3,>=2.21.0->tensorboard<3,>=2.3.0->tensorflow==2.3) (1.24.3)\n",
            "Requirement already satisfied: chardet<4,>=3.0.2 in /usr/local/lib/python3.6/dist-packages (from requests<3,>=2.21.0->tensorboard<3,>=2.3.0->tensorflow==2.3) (3.0.4)\n",
            "Requirement already satisfied: idna<3,>=2.5 in /usr/local/lib/python3.6/dist-packages (from requests<3,>=2.21.0->tensorboard<3,>=2.3.0->tensorflow==2.3) (2.10)\n",
            "Requirement already satisfied: pyasn1-modules>=0.2.1 in /usr/local/lib/python3.6/dist-packages (from google-auth<2,>=1.6.3->tensorboard<3,>=2.3.0->tensorflow==2.3) (0.2.8)\n",
            "Requirement already satisfied: cachetools<5.0,>=2.0.0 in /usr/local/lib/python3.6/dist-packages (from google-auth<2,>=1.6.3->tensorboard<3,>=2.3.0->tensorflow==2.3) (4.1.1)\n",
            "Requirement already satisfied: rsa<5,>=3.1.4; python_version >= \"3\" in /usr/local/lib/python3.6/dist-packages (from google-auth<2,>=1.6.3->tensorboard<3,>=2.3.0->tensorflow==2.3) (4.6)\n",
            "Requirement already satisfied: requests-oauthlib>=0.7.0 in /usr/local/lib/python3.6/dist-packages (from google-auth-oauthlib<0.5,>=0.4.1->tensorboard<3,>=2.3.0->tensorflow==2.3) (1.3.0)\n",
            "Requirement already satisfied: zipp>=0.5 in /usr/local/lib/python3.6/dist-packages (from importlib-metadata; python_version < \"3.8\"->markdown>=2.6.8->tensorboard<3,>=2.3.0->tensorflow==2.3) (3.1.0)\n",
            "Requirement already satisfied: pyasn1<0.5.0,>=0.4.6 in /usr/local/lib/python3.6/dist-packages (from pyasn1-modules>=0.2.1->google-auth<2,>=1.6.3->tensorboard<3,>=2.3.0->tensorflow==2.3) (0.4.8)\n",
            "Requirement already satisfied: oauthlib>=3.0.0 in /usr/local/lib/python3.6/dist-packages (from requests-oauthlib>=0.7.0->google-auth-oauthlib<0.5,>=0.4.1->tensorboard<3,>=2.3.0->tensorflow==2.3) (3.1.0)\n",
            "Installing collected packages: tensorboard, tensorflow-estimator, tensorflow\n",
            "  Found existing installation: tensorboard 2.2.2\n",
            "    Uninstalling tensorboard-2.2.2:\n",
            "      Successfully uninstalled tensorboard-2.2.2\n",
            "  Found existing installation: tensorflow-estimator 2.2.0\n",
            "    Uninstalling tensorflow-estimator-2.2.0:\n",
            "      Successfully uninstalled tensorflow-estimator-2.2.0\n",
            "  Found existing installation: tensorflow 2.2.0\n",
            "    Uninstalling tensorflow-2.2.0:\n",
            "      Successfully uninstalled tensorflow-2.2.0\n",
            "Successfully installed tensorboard-2.3.0 tensorflow-2.3.0 tensorflow-estimator-2.3.0\n"
          ],
          "name": "stdout"
        }
      ]
    },
    {
      "cell_type": "code",
      "metadata": {
        "id": "WFBVp-vevZhc",
        "colab_type": "code",
        "colab": {
          "base_uri": "https://localhost:8080/",
          "height": 377
        },
        "outputId": "c7aeb958-0f88-4781-ad65-cb763825af0e"
      },
      "source": [
        "! nvidia-smi"
      ],
      "execution_count": null,
      "outputs": [
        {
          "output_type": "stream",
          "text": [
            "Sat Aug  1 09:56:21 2020       \n",
            "+-----------------------------------------------------------------------------+\n",
            "| NVIDIA-SMI 450.57       Driver Version: 418.67       CUDA Version: 10.1     |\n",
            "|-------------------------------+----------------------+----------------------+\n",
            "| GPU  Name        Persistence-M| Bus-Id        Disp.A | Volatile Uncorr. ECC |\n",
            "| Fan  Temp  Perf  Pwr:Usage/Cap|         Memory-Usage | GPU-Util  Compute M. |\n",
            "|                               |                      |               MIG M. |\n",
            "|===============================+======================+======================|\n",
            "|   0  Tesla T4            Off  | 00000000:00:04.0 Off |                    0 |\n",
            "| N/A   60C    P8    11W /  70W |      0MiB / 15079MiB |      0%      Default |\n",
            "|                               |                      |                 ERR! |\n",
            "+-------------------------------+----------------------+----------------------+\n",
            "                                                                               \n",
            "+-----------------------------------------------------------------------------+\n",
            "| Processes:                                                                  |\n",
            "|  GPU   GI   CI        PID   Type   Process name                  GPU Memory |\n",
            "|        ID   ID                                                   Usage      |\n",
            "|=============================================================================|\n",
            "|  No running processes found                                                 |\n",
            "+-----------------------------------------------------------------------------+\n"
          ],
          "name": "stdout"
        }
      ]
    },
    {
      "cell_type": "code",
      "metadata": {
        "id": "rS6nu57pY3t9",
        "colab_type": "code",
        "colab": {
          "base_uri": "https://localhost:8080/",
          "height": 199
        },
        "outputId": "f1f22249-e4b1-42a7-80e7-1bf586a805eb"
      },
      "source": [
        "! pip install ipython-autotime\n",
        "\n",
        "%load_ext autotime"
      ],
      "execution_count": null,
      "outputs": [
        {
          "output_type": "stream",
          "text": [
            "Collecting ipython-autotime\n",
            "  Downloading https://files.pythonhosted.org/packages/e6/f9/0626bbdb322e3a078d968e87e3b01341e7890544de891d0cb613641220e6/ipython-autotime-0.1.tar.bz2\n",
            "Building wheels for collected packages: ipython-autotime\n",
            "  Building wheel for ipython-autotime (setup.py) ... \u001b[?25l\u001b[?25hdone\n",
            "  Created wheel for ipython-autotime: filename=ipython_autotime-0.1-cp36-none-any.whl size=1832 sha256=78f0fa12b26c198d67d5e7916ab768d13c8cd72bdf977440b7e0144a3e042a82\n",
            "  Stored in directory: /root/.cache/pip/wheels/d2/df/81/2db1e54bc91002cec40334629bc39cfa86dff540b304ebcd6e\n",
            "Successfully built ipython-autotime\n",
            "Installing collected packages: ipython-autotime\n",
            "Successfully installed ipython-autotime-0.1\n"
          ],
          "name": "stdout"
        }
      ]
    },
    {
      "cell_type": "code",
      "metadata": {
        "id": "NJW2UA2r05bm",
        "colab_type": "code",
        "colab": {
          "base_uri": "https://localhost:8080/",
          "height": 35
        },
        "outputId": "ecc8d3ce-c56e-4f43-821b-372281372ea0"
      },
      "source": [
        "import numpy as np\n",
        "import pickle\n",
        "import tensorflow as tf"
      ],
      "execution_count": null,
      "outputs": [
        {
          "output_type": "stream",
          "text": [
            "time: 1.21 s\n"
          ],
          "name": "stdout"
        }
      ]
    },
    {
      "cell_type": "code",
      "metadata": {
        "id": "AYeoOi1W6xpc",
        "colab_type": "code",
        "colab": {
          "base_uri": "https://localhost:8080/",
          "height": 35
        },
        "outputId": "3af57599-f862-463c-f5f1-4464c3b5af6d"
      },
      "source": [
        "tf.__version__"
      ],
      "execution_count": null,
      "outputs": [
        {
          "output_type": "execute_result",
          "data": {
            "application/vnd.google.colaboratory.intrinsic+json": {
              "type": "string"
            },
            "text/plain": [
              "'2.3.0'"
            ]
          },
          "metadata": {
            "tags": []
          },
          "execution_count": 6
        },
        {
          "output_type": "stream",
          "text": [
            "time: 6.96 ms\n"
          ],
          "name": "stdout"
        }
      ]
    },
    {
      "cell_type": "code",
      "metadata": {
        "id": "G2_kniLz1SIi",
        "colab_type": "code",
        "colab": {
          "base_uri": "https://localhost:8080/",
          "height": 71
        },
        "outputId": "3a16fc7c-a361-4c29-baa8-3efe6ed2c47f"
      },
      "source": [
        "(X_train, y_train), (X_test, y_test) = tf.keras.datasets.cifar10.load_data()"
      ],
      "execution_count": null,
      "outputs": [
        {
          "output_type": "stream",
          "text": [
            "Downloading data from https://www.cs.toronto.edu/~kriz/cifar-10-python.tar.gz\n",
            "170500096/170498071 [==============================] - 3s 0us/step\n",
            "time: 5.64 s\n"
          ],
          "name": "stdout"
        }
      ]
    },
    {
      "cell_type": "code",
      "metadata": {
        "id": "sinvl8xL1Yu1",
        "colab_type": "code",
        "colab": {
          "base_uri": "https://localhost:8080/",
          "height": 35
        },
        "outputId": "ad4527c8-3899-484c-b485-c570d84d3446"
      },
      "source": [
        "X_train.shape"
      ],
      "execution_count": null,
      "outputs": [
        {
          "output_type": "execute_result",
          "data": {
            "text/plain": [
              "(50000, 32, 32, 3)"
            ]
          },
          "metadata": {
            "tags": []
          },
          "execution_count": 8
        },
        {
          "output_type": "stream",
          "text": [
            "time: 7.72 ms\n"
          ],
          "name": "stdout"
        }
      ]
    },
    {
      "cell_type": "markdown",
      "metadata": {
        "id": "zRnUtP522I9W",
        "colab_type": "text"
      },
      "source": [
        "## Preprocessing"
      ]
    },
    {
      "cell_type": "code",
      "metadata": {
        "id": "VY_Z9dEC5qzG",
        "colab_type": "code",
        "colab": {
          "base_uri": "https://localhost:8080/",
          "height": 35
        },
        "outputId": "2c290684-d7ea-484c-a1c3-6ac836caedca"
      },
      "source": [
        "import tensorflow as tf\n",
        "\n",
        "ImgDatagenProperty = {\n",
        "    # 'rescale' : 1/255,\n",
        "    # 'rotation_range' : 40,\n",
        "    # 'width_shift_range' : 0.4,\n",
        "    # 'height_shift_range' : 0.4,\n",
        "    'shear_range' : 0.2,\n",
        "    # 'zoom_range' : 0.3,\n",
        "    # 'horizontal_flip' : True,\n",
        "    # 'fill_mode' : 'nearest',\n",
        "    'zca_whitening' : True,\n",
        "    'preprocessing_function' : tf.keras.applications.efficientnet.preprocess_input,\n",
        "}"
      ],
      "execution_count": null,
      "outputs": [
        {
          "output_type": "stream",
          "text": [
            "time: 1.85 ms\n"
          ],
          "name": "stdout"
        }
      ]
    },
    {
      "cell_type": "code",
      "metadata": {
        "id": "R2kiwhAUag6S",
        "colab_type": "code",
        "colab": {
          "base_uri": "https://localhost:8080/",
          "height": 35
        },
        "outputId": "4e6d0e63-72dc-403e-ebf5-4517199c3063"
      },
      "source": [
        "ImgValDatagenProperty = {\n",
        "    # 'rescale' : 1/255,\n",
        "    'preprocessing_function' : tf.keras.applications.efficientnet.preprocess_input,\n",
        "}"
      ],
      "execution_count": null,
      "outputs": [
        {
          "output_type": "stream",
          "text": [
            "time: 1.56 ms\n"
          ],
          "name": "stdout"
        }
      ]
    },
    {
      "cell_type": "code",
      "metadata": {
        "id": "q1OmRZK65qyy",
        "colab_type": "code",
        "colab": {
          "base_uri": "https://localhost:8080/",
          "height": 35
        },
        "outputId": "2f122400-e73b-4977-c3e2-457e38110a99"
      },
      "source": [
        "ImgModelProperty = {\n",
        "    'img_height' : 32,\n",
        "    'img_width' : 32,\n",
        "    'num_class' : 10,\n",
        "    'epoch' : 60,\n",
        "    'batch_size' : 128\n",
        "}"
      ],
      "execution_count": null,
      "outputs": [
        {
          "output_type": "stream",
          "text": [
            "time: 2.96 ms\n"
          ],
          "name": "stdout"
        }
      ]
    },
    {
      "cell_type": "code",
      "metadata": {
        "id": "1tOud9J35qyP",
        "colab_type": "code",
        "colab": {
          "base_uri": "https://localhost:8080/",
          "height": 91
        },
        "outputId": "659334b2-6d3c-474d-f1d2-9b6ba42e3969"
      },
      "source": [
        "import tensorflow as tf\n",
        "\n",
        "train_datagen = tf.keras.preprocessing.image.ImageDataGenerator(\n",
        "            zca_epsilon=1e-06,\n",
        "            rotation_range=15,\n",
        "            width_shift_range=0.1,\n",
        "            height_shift_range=0.1,\n",
        "            zoom_range=0.2,\n",
        "            fill_mode='nearest',\n",
        "            horizontal_flip=True,**ImgDatagenProperty).flow(X_train, y_train, batch_size=ImgModelProperty['batch_size'], seed=5555, shuffle=True)\n",
        "val_datagen = tf.keras.preprocessing.image.ImageDataGenerator(**ImgValDatagenProperty).flow(X_test, y_test, batch_size=ImgModelProperty['batch_size'], seed=5555, shuffle=True)"
      ],
      "execution_count": null,
      "outputs": [
        {
          "output_type": "stream",
          "text": [
            "/usr/local/lib/python3.6/dist-packages/keras_preprocessing/image/image_data_generator.py:337: UserWarning: This ImageDataGenerator specifies `zca_whitening`, which overrides setting of `featurewise_center`.\n",
            "  warnings.warn('This ImageDataGenerator specifies '\n"
          ],
          "name": "stderr"
        },
        {
          "output_type": "stream",
          "text": [
            "time: 840 ms\n"
          ],
          "name": "stdout"
        }
      ]
    },
    {
      "cell_type": "markdown",
      "metadata": {
        "id": "MJdngfbn90Qa",
        "colab_type": "text"
      },
      "source": [
        "## Model"
      ]
    },
    {
      "cell_type": "markdown",
      "metadata": {
        "id": "0U1arsQIZhT7",
        "colab_type": "text"
      },
      "source": [
        "https://www.tensorflow.org/api_docs/python/tf/keras/applications/ResNet101"
      ]
    },
    {
      "cell_type": "code",
      "metadata": {
        "id": "-t02EeYQr_mv",
        "colab_type": "code",
        "colab": {
          "base_uri": "https://localhost:8080/",
          "height": 35
        },
        "outputId": "e630b64b-a5de-4724-cc2d-e6da80b2be63"
      },
      "source": [
        "import tensorflow.keras.backend as K\n",
        "\n",
        "K.clear_session()"
      ],
      "execution_count": null,
      "outputs": [
        {
          "output_type": "stream",
          "text": [
            "time: 6.48 ms\n"
          ],
          "name": "stdout"
        }
      ]
    },
    {
      "cell_type": "code",
      "metadata": {
        "id": "pK665HEQ91Sd",
        "colab_type": "code",
        "colab": {
          "base_uri": "https://localhost:8080/",
          "height": 35
        },
        "outputId": "5bb7f176-6c50-4e74-b5db-1045de93f07a"
      },
      "source": [
        "import tensorflow as tf\n",
        "\n",
        "def BuildModel(input_dim = (32, 32, 3), n_class = 10) -> tf.keras.Sequential :\n",
        "    model = tf.keras.Sequential()\n",
        "    model.add(tf.keras.applications.EfficientNetB1(include_top=False, weights='imagenet', input_shape=input_dim))\n",
        "    model.add(tf.keras.layers.GlobalAveragePooling2D())\n",
        "    # model.add(tf.keras.layers.Flatten())\n",
        "    # model.add(tf.keras.layers.Dense(128, activation=tf.keras.activations.relu))\n",
        "    # model.add(tf.keras.layers.BatchNormalization())\n",
        "    model.add(tf.keras.layers.Dense(64, activation=tf.keras.activations.relu))\n",
        "    model.add(tf.keras.layers.BatchNormalization())\n",
        "    # model.add(tf.keras.layers.Dense(32, activation=tf.keras.activations.relu))\n",
        "    # model.add(tf.keras.layers.BatchNormalization())\n",
        "    model.add(tf.keras.layers.Dense(10, activation=tf.keras.activations.softmax))\n",
        "    # padding_input = tf.keras.layers.ZeroPadding2D(padding=(96, 96), input_shape=input_dim)\n",
        "    # pretrained = tf.keras.applications.inception_v3.InceptionV3(include_top=False, weights='imagenet')(padding_input)\n",
        "\n",
        "    # model = tf.keras.Model(padding_input.input, pretrained)\n",
        "    return model    "
      ],
      "execution_count": null,
      "outputs": [
        {
          "output_type": "stream",
          "text": [
            "time: 9.41 ms\n"
          ],
          "name": "stdout"
        }
      ]
    },
    {
      "cell_type": "code",
      "metadata": {
        "id": "xepDeA9nQst-",
        "colab_type": "code",
        "colab": {
          "base_uri": "https://localhost:8080/",
          "height": 71
        },
        "outputId": "4097a5a0-e936-46b4-d8d2-1278efd14aaa"
      },
      "source": [
        "model = BuildModel()"
      ],
      "execution_count": null,
      "outputs": [
        {
          "output_type": "stream",
          "text": [
            "Downloading data from https://storage.googleapis.com/keras-applications/efficientnetb1_notop.h5\n",
            "27025408/27018416 [==============================] - 0s 0us/step\n",
            "time: 4.71 s\n"
          ],
          "name": "stdout"
        }
      ]
    },
    {
      "cell_type": "code",
      "metadata": {
        "id": "m3dTkT6DTInr",
        "colab_type": "code",
        "colab": {
          "base_uri": "https://localhost:8080/",
          "height": 359
        },
        "outputId": "f3c30791-f361-46dc-a544-115d4902055e"
      },
      "source": [
        "model.summary()"
      ],
      "execution_count": null,
      "outputs": [
        {
          "output_type": "stream",
          "text": [
            "Model: \"sequential\"\n",
            "_________________________________________________________________\n",
            "Layer (type)                 Output Shape              Param #   \n",
            "=================================================================\n",
            "efficientnetb1 (Functional)  (None, 1, 1, 1280)        6575239   \n",
            "_________________________________________________________________\n",
            "global_average_pooling2d (Gl (None, 1280)              0         \n",
            "_________________________________________________________________\n",
            "dense (Dense)                (None, 64)                81984     \n",
            "_________________________________________________________________\n",
            "batch_normalization (BatchNo (None, 64)                256       \n",
            "_________________________________________________________________\n",
            "dense_1 (Dense)              (None, 10)                650       \n",
            "=================================================================\n",
            "Total params: 6,658,129\n",
            "Trainable params: 6,595,946\n",
            "Non-trainable params: 62,183\n",
            "_________________________________________________________________\n",
            "time: 22.5 ms\n"
          ],
          "name": "stdout"
        }
      ]
    },
    {
      "cell_type": "code",
      "metadata": {
        "id": "1ZhQJF14VPnG",
        "colab_type": "code",
        "colab": {
          "base_uri": "https://localhost:8080/",
          "height": 35
        },
        "outputId": "07c9780c-746a-4c5a-c097-da1f997d7748"
      },
      "source": [
        "model.compile(\n",
        "    optimizer=tf.keras.optimizers.Adam(1e-3), loss=tf.keras.losses.SparseCategoricalCrossentropy(), metrics=[tf.keras.metrics.sparse_categorical_accuracy]\n",
        ")"
      ],
      "execution_count": null,
      "outputs": [
        {
          "output_type": "stream",
          "text": [
            "time: 25.1 ms\n"
          ],
          "name": "stdout"
        }
      ]
    },
    {
      "cell_type": "code",
      "metadata": {
        "id": "-p3pX0p0doxQ",
        "colab_type": "code",
        "colab": {
          "base_uri": "https://localhost:8080/",
          "height": 35
        },
        "outputId": "55f3b8b3-fe9b-479a-b088-bb8d6bbfd3e0"
      },
      "source": [
        "import tensorflow as tf\n",
        "\n",
        "red = tf.keras.callbacks.ReduceLROnPlateau(monitor='val_loss', factor=0.5, patience=2, verbose=1, mode='auto', min_lr=1e-7)"
      ],
      "execution_count": null,
      "outputs": [
        {
          "output_type": "stream",
          "text": [
            "time: 1.62 ms\n"
          ],
          "name": "stdout"
        }
      ]
    },
    {
      "cell_type": "code",
      "metadata": {
        "id": "xvoemUYtdqBG",
        "colab_type": "code",
        "colab": {
          "base_uri": "https://localhost:8080/",
          "height": 71
        },
        "outputId": "cb330d87-6b2b-4de8-bb30-3a0f79157acc"
      },
      "source": [
        "%load_ext tensorboard\n",
        "! rm -rf ./logs/ "
      ],
      "execution_count": null,
      "outputs": [
        {
          "output_type": "stream",
          "text": [
            "The tensorboard extension is already loaded. To reload it, use:\n",
            "  %reload_ext tensorboard\n",
            "time: 2.02 s\n"
          ],
          "name": "stdout"
        }
      ]
    },
    {
      "cell_type": "code",
      "metadata": {
        "id": "iwogoDIC0nMl",
        "colab_type": "code",
        "colab": {
          "base_uri": "https://localhost:8080/",
          "height": 35
        },
        "outputId": "d69221f8-09ea-437f-e8db-296e8ddd3fc2"
      },
      "source": [
        "import tensorflow as tf\n",
        "\n",
        "esb = tf.keras.callbacks.EarlyStopping(monitor = 'val_loss', patience = 5)"
      ],
      "execution_count": null,
      "outputs": [
        {
          "output_type": "stream",
          "text": [
            "time: 3.03 ms\n"
          ],
          "name": "stdout"
        }
      ]
    },
    {
      "cell_type": "code",
      "metadata": {
        "id": "K9jRHuf4dqAy",
        "colab_type": "code",
        "colab": {
          "base_uri": "https://localhost:8080/",
          "height": 35
        },
        "outputId": "1df8c2c7-c67b-4544-938a-10f2bfdda5d3"
      },
      "source": [
        "import datetime\n",
        "log_dir = 'logs/fit/' + datetime.datetime.now().strftime(\"%Y%m%d-%H%M%S\")\n",
        "tsb = tf.keras.callbacks.TensorBoard(log_dir=log_dir, histogram_freq=1)"
      ],
      "execution_count": null,
      "outputs": [
        {
          "output_type": "stream",
          "text": [
            "time: 4.51 ms\n"
          ],
          "name": "stdout"
        }
      ]
    },
    {
      "cell_type": "code",
      "metadata": {
        "id": "HS4n9rR7VoeO",
        "colab_type": "code",
        "colab": {
          "base_uri": "https://localhost:8080/",
          "height": 1000
        },
        "outputId": "139b6da8-5dfa-4c65-e594-a48f1d856832"
      },
      "source": [
        "model.fit(\n",
        "    train_datagen, \n",
        "    epochs=ImgModelProperty['epoch'],\n",
        "    steps_per_epoch=len(X_train) / ImgModelProperty['batch_size'],\n",
        "    validation_data=val_datagen,\n",
        "    callbacks=[red, tsb, esb],\n",
        ")"
      ],
      "execution_count": null,
      "outputs": [
        {
          "output_type": "stream",
          "text": [
            "/usr/local/lib/python3.6/dist-packages/keras_preprocessing/image/image_data_generator.py:720: UserWarning: This ImageDataGenerator specifies `featurewise_center`, but it hasn't been fit on any training data. Fit it first by calling `.fit(numpy_data)`.\n",
            "  warnings.warn('This ImageDataGenerator specifies '\n",
            "/usr/local/lib/python3.6/dist-packages/keras_preprocessing/image/image_data_generator.py:739: UserWarning: This ImageDataGenerator specifies `zca_whitening`, but it hasn't been fit on any training data. Fit it first by calling `.fit(numpy_data)`.\n",
            "  warnings.warn('This ImageDataGenerator specifies '\n"
          ],
          "name": "stderr"
        },
        {
          "output_type": "stream",
          "text": [
            "Epoch 1/60\n",
            "  2/390 [..............................] - ETA: 3:41 - loss: 2.8296 - sparse_categorical_accuracy: 0.1562WARNING:tensorflow:Callbacks method `on_train_batch_end` is slow compared to the batch time (batch time: 0.1173s vs `on_train_batch_end` time: 1.0225s). Check your callbacks.\n",
            "391/390 [==============================] - 42s 107ms/step - loss: 1.1929 - sparse_categorical_accuracy: 0.5920 - val_loss: 0.8732 - val_sparse_categorical_accuracy: 0.7284\n",
            "Epoch 2/60\n",
            "391/390 [==============================] - 40s 101ms/step - loss: 0.7167 - sparse_categorical_accuracy: 0.7517 - val_loss: 0.6713 - val_sparse_categorical_accuracy: 0.7862\n",
            "Epoch 3/60\n",
            "391/390 [==============================] - 39s 100ms/step - loss: 0.6046 - sparse_categorical_accuracy: 0.7921 - val_loss: 0.5409 - val_sparse_categorical_accuracy: 0.8183\n",
            "Epoch 4/60\n",
            "391/390 [==============================] - 40s 103ms/step - loss: 0.5418 - sparse_categorical_accuracy: 0.8120 - val_loss: 0.6212 - val_sparse_categorical_accuracy: 0.8048\n",
            "Epoch 5/60\n",
            "391/390 [==============================] - 41s 105ms/step - loss: 0.4966 - sparse_categorical_accuracy: 0.8282 - val_loss: 0.4971 - val_sparse_categorical_accuracy: 0.8339\n",
            "Epoch 6/60\n",
            "391/390 [==============================] - 40s 102ms/step - loss: 0.4691 - sparse_categorical_accuracy: 0.8373 - val_loss: 0.4985 - val_sparse_categorical_accuracy: 0.8336\n",
            "Epoch 7/60\n",
            "391/390 [==============================] - 39s 101ms/step - loss: 0.4421 - sparse_categorical_accuracy: 0.8484 - val_loss: 0.4923 - val_sparse_categorical_accuracy: 0.8358\n",
            "Epoch 8/60\n",
            "391/390 [==============================] - 40s 101ms/step - loss: 0.4225 - sparse_categorical_accuracy: 0.8547 - val_loss: 0.4663 - val_sparse_categorical_accuracy: 0.8486\n",
            "Epoch 9/60\n",
            "391/390 [==============================] - 40s 101ms/step - loss: 0.4002 - sparse_categorical_accuracy: 0.8622 - val_loss: 0.4697 - val_sparse_categorical_accuracy: 0.8535\n",
            "Epoch 10/60\n",
            "391/390 [==============================] - 39s 101ms/step - loss: 0.3824 - sparse_categorical_accuracy: 0.8665 - val_loss: 0.4373 - val_sparse_categorical_accuracy: 0.8573\n",
            "Epoch 11/60\n",
            "391/390 [==============================] - 39s 100ms/step - loss: 0.3708 - sparse_categorical_accuracy: 0.8725 - val_loss: 0.4742 - val_sparse_categorical_accuracy: 0.8491\n",
            "Epoch 12/60\n",
            "391/390 [==============================] - ETA: 0s - loss: 0.3556 - sparse_categorical_accuracy: 0.8776\n",
            "Epoch 00012: ReduceLROnPlateau reducing learning rate to 0.0005000000237487257.\n",
            "391/390 [==============================] - 39s 101ms/step - loss: 0.3556 - sparse_categorical_accuracy: 0.8776 - val_loss: 0.4655 - val_sparse_categorical_accuracy: 0.8521\n",
            "Epoch 13/60\n",
            "391/390 [==============================] - 39s 100ms/step - loss: 0.2898 - sparse_categorical_accuracy: 0.8994 - val_loss: 0.4007 - val_sparse_categorical_accuracy: 0.8722\n",
            "Epoch 14/60\n",
            "391/390 [==============================] - 39s 101ms/step - loss: 0.2644 - sparse_categorical_accuracy: 0.9068 - val_loss: 0.3879 - val_sparse_categorical_accuracy: 0.8709\n",
            "Epoch 15/60\n",
            "391/390 [==============================] - 39s 100ms/step - loss: 0.2546 - sparse_categorical_accuracy: 0.9112 - val_loss: 0.3803 - val_sparse_categorical_accuracy: 0.8747\n",
            "Epoch 16/60\n",
            "391/390 [==============================] - 40s 101ms/step - loss: 0.2437 - sparse_categorical_accuracy: 0.9155 - val_loss: 0.3869 - val_sparse_categorical_accuracy: 0.8759\n",
            "Epoch 17/60\n",
            "391/390 [==============================] - ETA: 0s - loss: 0.2330 - sparse_categorical_accuracy: 0.9172\n",
            "Epoch 00017: ReduceLROnPlateau reducing learning rate to 0.0002500000118743628.\n",
            "391/390 [==============================] - 40s 101ms/step - loss: 0.2330 - sparse_categorical_accuracy: 0.9172 - val_loss: 0.4047 - val_sparse_categorical_accuracy: 0.8721\n",
            "Epoch 18/60\n",
            "391/390 [==============================] - 39s 100ms/step - loss: 0.1941 - sparse_categorical_accuracy: 0.9322 - val_loss: 0.3746 - val_sparse_categorical_accuracy: 0.8847\n",
            "Epoch 19/60\n",
            "391/390 [==============================] - 39s 100ms/step - loss: 0.1773 - sparse_categorical_accuracy: 0.9369 - val_loss: 0.4104 - val_sparse_categorical_accuracy: 0.8739\n",
            "Epoch 20/60\n",
            "391/390 [==============================] - ETA: 0s - loss: 0.1679 - sparse_categorical_accuracy: 0.9403\n",
            "Epoch 00020: ReduceLROnPlateau reducing learning rate to 0.0001250000059371814.\n",
            "391/390 [==============================] - 39s 100ms/step - loss: 0.1679 - sparse_categorical_accuracy: 0.9403 - val_loss: 0.4116 - val_sparse_categorical_accuracy: 0.8789\n",
            "Epoch 21/60\n",
            "391/390 [==============================] - 39s 100ms/step - loss: 0.1548 - sparse_categorical_accuracy: 0.9458 - val_loss: 0.3896 - val_sparse_categorical_accuracy: 0.8857\n",
            "Epoch 22/60\n",
            "391/390 [==============================] - ETA: 0s - loss: 0.1416 - sparse_categorical_accuracy: 0.9510\n",
            "Epoch 00022: ReduceLROnPlateau reducing learning rate to 6.25000029685907e-05.\n",
            "391/390 [==============================] - 39s 100ms/step - loss: 0.1416 - sparse_categorical_accuracy: 0.9510 - val_loss: 0.3939 - val_sparse_categorical_accuracy: 0.8863\n",
            "Epoch 23/60\n",
            "391/390 [==============================] - 39s 100ms/step - loss: 0.1327 - sparse_categorical_accuracy: 0.9522 - val_loss: 0.3848 - val_sparse_categorical_accuracy: 0.8875\n"
          ],
          "name": "stdout"
        },
        {
          "output_type": "execute_result",
          "data": {
            "text/plain": [
              "<tensorflow.python.keras.callbacks.History at 0x7f436216d160>"
            ]
          },
          "metadata": {
            "tags": []
          },
          "execution_count": 118
        },
        {
          "output_type": "stream",
          "text": [
            "time: 15min 24s\n"
          ],
          "name": "stdout"
        }
      ]
    },
    {
      "cell_type": "code",
      "metadata": {
        "id": "XSYl0V5ydqAc",
        "colab_type": "code",
        "colab": {
          "base_uri": "https://localhost:8080/",
          "height": 857
        },
        "outputId": "ea5d2018-36cc-49b4-b321-27be5e1a3887"
      },
      "source": [
        "%tensorboard --logdir logs/fit"
      ],
      "execution_count": null,
      "outputs": []
    },
    {
      "cell_type": "code",
      "metadata": {
        "id": "ySZK-FCdHXC5",
        "colab_type": "code",
        "colab": {
          "base_uri": "https://localhost:8080/",
          "height": 35
        },
        "outputId": "d4bd8254-8b3b-4638-c70d-7e6d75eb4b38"
      },
      "source": [
        "y_pred = model.predict(val_datagen)"
      ],
      "execution_count": null,
      "outputs": [
        {
          "output_type": "stream",
          "text": [
            "time: 2.8 s\n"
          ],
          "name": "stdout"
        }
      ]
    },
    {
      "cell_type": "code",
      "metadata": {
        "id": "w0_rRV-uIlLy",
        "colab_type": "code",
        "colab": {
          "base_uri": "https://localhost:8080/",
          "height": 53
        },
        "outputId": "428d7077-7172-4ee6-d0ee-a73726e914a3"
      },
      "source": [
        "model.evaluate(val_datagen)"
      ],
      "execution_count": null,
      "outputs": [
        {
          "output_type": "stream",
          "text": [
            "79/79 [==============================] - 2s 20ms/step - loss: 0.3848 - sparse_categorical_accuracy: 0.8875\n"
          ],
          "name": "stdout"
        },
        {
          "output_type": "execute_result",
          "data": {
            "text/plain": [
              "[0.38483357429504395, 0.887499988079071]"
            ]
          },
          "metadata": {
            "tags": []
          },
          "execution_count": 132
        },
        {
          "output_type": "stream",
          "text": [
            "time: 1.7 s\n"
          ],
          "name": "stdout"
        }
      ]
    }
  ]
}