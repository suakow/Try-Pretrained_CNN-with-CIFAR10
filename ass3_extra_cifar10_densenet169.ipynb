{
  "nbformat": 4,
  "nbformat_minor": 0,
  "metadata": {
    "colab": {
      "name": "ass3_extra-cifar10-densenet169.ipynb",
      "provenance": [],
      "collapsed_sections": [],
      "toc_visible": true,
      "authorship_tag": "ABX9TyOuBGdv4f6JxrItGbKsKFI1"
    },
    "kernelspec": {
      "name": "python3",
      "display_name": "Python 3"
    },
    "accelerator": "GPU"
  },
  "cells": [
    {
      "cell_type": "markdown",
      "metadata": {
        "id": "HzfBc027y6q8",
        "colab_type": "text"
      },
      "source": [
        "# Assignment 3 - Extra : CIFAR-10"
      ]
    },
    {
      "cell_type": "markdown",
      "metadata": {
        "id": "5NEHu3-TINhJ",
        "colab_type": "text"
      },
      "source": [
        "https://github.com/kuangliu/pytorch-cifar/blob/master/main.py"
      ]
    },
    {
      "cell_type": "markdown",
      "metadata": {
        "id": "niMziGU5y7sJ",
        "colab_type": "text"
      },
      "source": [
        "## Import Data"
      ]
    },
    {
      "cell_type": "code",
      "metadata": {
        "id": "WFBVp-vevZhc",
        "colab_type": "code",
        "colab": {
          "base_uri": "https://localhost:8080/",
          "height": 377
        },
        "outputId": "8a76ad89-e900-4bef-f8a3-42ef3f5c5c77"
      },
      "source": [
        "! nvidia-smi"
      ],
      "execution_count": null,
      "outputs": [
        {
          "output_type": "stream",
          "text": [
            "Sat Aug  1 08:13:41 2020       \n",
            "+-----------------------------------------------------------------------------+\n",
            "| NVIDIA-SMI 450.57       Driver Version: 418.67       CUDA Version: 10.1     |\n",
            "|-------------------------------+----------------------+----------------------+\n",
            "| GPU  Name        Persistence-M| Bus-Id        Disp.A | Volatile Uncorr. ECC |\n",
            "| Fan  Temp  Perf  Pwr:Usage/Cap|         Memory-Usage | GPU-Util  Compute M. |\n",
            "|                               |                      |               MIG M. |\n",
            "|===============================+======================+======================|\n",
            "|   0  Tesla T4            Off  | 00000000:00:04.0 Off |                    0 |\n",
            "| N/A   65C    P8    12W /  70W |      0MiB / 15079MiB |      0%      Default |\n",
            "|                               |                      |                 ERR! |\n",
            "+-------------------------------+----------------------+----------------------+\n",
            "                                                                               \n",
            "+-----------------------------------------------------------------------------+\n",
            "| Processes:                                                                  |\n",
            "|  GPU   GI   CI        PID   Type   Process name                  GPU Memory |\n",
            "|        ID   ID                                                   Usage      |\n",
            "|=============================================================================|\n",
            "|  No running processes found                                                 |\n",
            "+-----------------------------------------------------------------------------+\n"
          ],
          "name": "stdout"
        }
      ]
    },
    {
      "cell_type": "code",
      "metadata": {
        "id": "rS6nu57pY3t9",
        "colab_type": "code",
        "colab": {
          "base_uri": "https://localhost:8080/",
          "height": 199
        },
        "outputId": "f970c424-833b-48da-d8f9-eb8a45d3174d"
      },
      "source": [
        "! pip install ipython-autotime\n",
        "\n",
        "%load_ext autotime"
      ],
      "execution_count": null,
      "outputs": [
        {
          "output_type": "stream",
          "text": [
            "Collecting ipython-autotime\n",
            "  Downloading https://files.pythonhosted.org/packages/e6/f9/0626bbdb322e3a078d968e87e3b01341e7890544de891d0cb613641220e6/ipython-autotime-0.1.tar.bz2\n",
            "Building wheels for collected packages: ipython-autotime\n",
            "  Building wheel for ipython-autotime (setup.py) ... \u001b[?25l\u001b[?25hdone\n",
            "  Created wheel for ipython-autotime: filename=ipython_autotime-0.1-cp36-none-any.whl size=1832 sha256=bc5b0b3d2ccafa91862e75f1cb53d1d5f9716c0c31340ad41cf83dbfa408997e\n",
            "  Stored in directory: /root/.cache/pip/wheels/d2/df/81/2db1e54bc91002cec40334629bc39cfa86dff540b304ebcd6e\n",
            "Successfully built ipython-autotime\n",
            "Installing collected packages: ipython-autotime\n",
            "Successfully installed ipython-autotime-0.1\n"
          ],
          "name": "stdout"
        }
      ]
    },
    {
      "cell_type": "code",
      "metadata": {
        "id": "NJW2UA2r05bm",
        "colab_type": "code",
        "colab": {
          "base_uri": "https://localhost:8080/",
          "height": 35
        },
        "outputId": "e69ae76a-9f26-4ae9-ea1e-c225bf4b558d"
      },
      "source": [
        "import numpy as np\n",
        "import pickle\n",
        "import tensorflow as tf"
      ],
      "execution_count": null,
      "outputs": [
        {
          "output_type": "stream",
          "text": [
            "time: 1.21 s\n"
          ],
          "name": "stdout"
        }
      ]
    },
    {
      "cell_type": "code",
      "metadata": {
        "id": "AYeoOi1W6xpc",
        "colab_type": "code",
        "colab": {
          "base_uri": "https://localhost:8080/",
          "height": 35
        },
        "outputId": "ec8b2baa-42a2-4d7e-cc6b-f7c5fbbe35c4"
      },
      "source": [
        "tf.__version__"
      ],
      "execution_count": null,
      "outputs": [
        {
          "output_type": "execute_result",
          "data": {
            "application/vnd.google.colaboratory.intrinsic+json": {
              "type": "string"
            },
            "text/plain": [
              "'2.2.0'"
            ]
          },
          "metadata": {
            "tags": []
          },
          "execution_count": 4
        },
        {
          "output_type": "stream",
          "text": [
            "time: 2.7 ms\n"
          ],
          "name": "stdout"
        }
      ]
    },
    {
      "cell_type": "code",
      "metadata": {
        "id": "G2_kniLz1SIi",
        "colab_type": "code",
        "colab": {
          "base_uri": "https://localhost:8080/",
          "height": 71
        },
        "outputId": "51f03cf8-8676-4357-b1aa-93eda5774009"
      },
      "source": [
        "(X_train, y_train), (X_test, y_test) = tf.keras.datasets.cifar10.load_data()"
      ],
      "execution_count": null,
      "outputs": [
        {
          "output_type": "stream",
          "text": [
            "Downloading data from https://www.cs.toronto.edu/~kriz/cifar-10-python.tar.gz\n",
            "170500096/170498071 [==============================] - 13s 0us/step\n",
            "time: 16.3 s\n"
          ],
          "name": "stdout"
        }
      ]
    },
    {
      "cell_type": "code",
      "metadata": {
        "id": "sinvl8xL1Yu1",
        "colab_type": "code",
        "colab": {
          "base_uri": "https://localhost:8080/",
          "height": 35
        },
        "outputId": "9c232711-9e26-4d43-84ca-41f4110dfb2c"
      },
      "source": [
        "X_train.shape"
      ],
      "execution_count": null,
      "outputs": [
        {
          "output_type": "execute_result",
          "data": {
            "text/plain": [
              "(50000, 32, 32, 3)"
            ]
          },
          "metadata": {
            "tags": []
          },
          "execution_count": 6
        },
        {
          "output_type": "stream",
          "text": [
            "time: 5.67 ms\n"
          ],
          "name": "stdout"
        }
      ]
    },
    {
      "cell_type": "markdown",
      "metadata": {
        "id": "zRnUtP522I9W",
        "colab_type": "text"
      },
      "source": [
        "## Preprocessing"
      ]
    },
    {
      "cell_type": "code",
      "metadata": {
        "id": "VY_Z9dEC5qzG",
        "colab_type": "code",
        "colab": {
          "base_uri": "https://localhost:8080/",
          "height": 35
        },
        "outputId": "ce9b87cc-d907-49c5-862c-4f7522d81f3a"
      },
      "source": [
        "import tensorflow as tf\n",
        "\n",
        "ImgDatagenProperty = {\n",
        "    'rotation_range' : 40,\n",
        "    'width_shift_range' : 0.4,\n",
        "    'height_shift_range' : 0.4,\n",
        "    'shear_range' : 0.3,\n",
        "    'zoom_range' : 0.3,\n",
        "    'horizontal_flip' : True,\n",
        "    'fill_mode' : 'nearest',\n",
        "    'preprocessing_function' : tf.keras.applications.densenet.preprocess_input,\n",
        "}"
      ],
      "execution_count": null,
      "outputs": [
        {
          "output_type": "stream",
          "text": [
            "time: 4.14 ms\n"
          ],
          "name": "stdout"
        }
      ]
    },
    {
      "cell_type": "code",
      "metadata": {
        "id": "R2kiwhAUag6S",
        "colab_type": "code",
        "colab": {
          "base_uri": "https://localhost:8080/",
          "height": 35
        },
        "outputId": "19b89bf8-e8ea-4455-a8b2-b75552e7b5c5"
      },
      "source": [
        "ImgValDatagenProperty = {\n",
        "    'preprocessing_function' : tf.keras.applications.densenet.preprocess_input,\n",
        "}"
      ],
      "execution_count": null,
      "outputs": [
        {
          "output_type": "stream",
          "text": [
            "time: 995 µs\n"
          ],
          "name": "stdout"
        }
      ]
    },
    {
      "cell_type": "code",
      "metadata": {
        "id": "q1OmRZK65qyy",
        "colab_type": "code",
        "colab": {
          "base_uri": "https://localhost:8080/",
          "height": 35
        },
        "outputId": "907cecc4-6a38-4c99-e4e4-f44d27b66ee9"
      },
      "source": [
        "ImgModelProperty = {\n",
        "    'img_height' : 32,\n",
        "    'img_width' : 32,\n",
        "    'num_class' : 10,\n",
        "    'epoch' : 60,\n",
        "    'batch_size' : 128\n",
        "}"
      ],
      "execution_count": null,
      "outputs": [
        {
          "output_type": "stream",
          "text": [
            "time: 1.81 ms\n"
          ],
          "name": "stdout"
        }
      ]
    },
    {
      "cell_type": "code",
      "metadata": {
        "id": "1tOud9J35qyP",
        "colab_type": "code",
        "colab": {
          "base_uri": "https://localhost:8080/",
          "height": 35
        },
        "outputId": "501b0708-ede8-4b79-ee5c-1b9af7dca4f1"
      },
      "source": [
        "import tensorflow as tf\n",
        "\n",
        "train_datagen = tf.keras.preprocessing.image.ImageDataGenerator(**ImgDatagenProperty).flow(X_train, y_train, batch_size=ImgModelProperty['batch_size'], seed=5555, shuffle=True)\n",
        "val_datagen = tf.keras.preprocessing.image.ImageDataGenerator(**ImgValDatagenProperty).flow(X_test, y_test, batch_size=ImgModelProperty['batch_size'], seed=5555, shuffle=True)"
      ],
      "execution_count": null,
      "outputs": [
        {
          "output_type": "stream",
          "text": [
            "time: 215 ms\n"
          ],
          "name": "stdout"
        }
      ]
    },
    {
      "cell_type": "markdown",
      "metadata": {
        "id": "MJdngfbn90Qa",
        "colab_type": "text"
      },
      "source": [
        "## Model"
      ]
    },
    {
      "cell_type": "markdown",
      "metadata": {
        "id": "0U1arsQIZhT7",
        "colab_type": "text"
      },
      "source": [
        "https://www.tensorflow.org/api_docs/python/tf/keras/applications/ResNet101"
      ]
    },
    {
      "cell_type": "code",
      "metadata": {
        "id": "pK665HEQ91Sd",
        "colab_type": "code",
        "colab": {
          "base_uri": "https://localhost:8080/",
          "height": 35
        },
        "outputId": "4515ac92-7015-4f44-9606-5ce5a2a2b437"
      },
      "source": [
        "import tensorflow as tf\n",
        "\n",
        "def BuildModel(input_dim = (32, 32, 3), n_class = 10) -> tf.keras.Sequential :\n",
        "    model = tf.keras.Sequential()\n",
        "    model.add(tf.keras.applications.DenseNet169(include_top=False, weights='imagenet', input_shape=input_dim))\n",
        "    model.add(tf.keras.layers.GlobalAveragePooling2D())\n",
        "    model.add(tf.keras.layers.Dense(128, activation=tf.keras.activations.relu))\n",
        "    model.add(tf.keras.layers.BatchNormalization())\n",
        "    # model.add(tf.keras.layers.Dense(128, activation=tf.keras.activations.relu))\n",
        "    # model.add(tf.keras.layers.BatchNormalization())\n",
        "    # model.add(tf.keras.layers.Dense(32, activation=tf.keras.activations.relu))\n",
        "    # model.add(tf.keras.layers.BatchNormalization())\n",
        "    model.add(tf.keras.layers.Dense(10, activation=tf.keras.activations.softmax))\n",
        "    # padding_input = tf.keras.layers.ZeroPadding2D(padding=(96, 96), input_shape=input_dim)\n",
        "    # pretrained = tf.keras.applications.inception_v3.InceptionV3(include_top=False, weights='imagenet')(padding_input)\n",
        "\n",
        "    # model = tf.keras.Model(padding_input.input, pretrained)\n",
        "    return model    "
      ],
      "execution_count": null,
      "outputs": [
        {
          "output_type": "stream",
          "text": [
            "time: 11.5 ms\n"
          ],
          "name": "stdout"
        }
      ]
    },
    {
      "cell_type": "code",
      "metadata": {
        "id": "xepDeA9nQst-",
        "colab_type": "code",
        "colab": {
          "base_uri": "https://localhost:8080/",
          "height": 35
        },
        "outputId": "1387e234-e8ed-45ee-ed12-15de4e44742d"
      },
      "source": [
        "model = BuildModel()"
      ],
      "execution_count": null,
      "outputs": [
        {
          "output_type": "stream",
          "text": [
            "time: 13.6 s\n"
          ],
          "name": "stdout"
        }
      ]
    },
    {
      "cell_type": "code",
      "metadata": {
        "id": "m3dTkT6DTInr",
        "colab_type": "code",
        "colab": {
          "base_uri": "https://localhost:8080/",
          "height": 359
        },
        "outputId": "dc45a4c0-998b-4447-cb1a-7704048b35cf"
      },
      "source": [
        "model.summary()"
      ],
      "execution_count": null,
      "outputs": [
        {
          "output_type": "stream",
          "text": [
            "Model: \"sequential_2\"\n",
            "_________________________________________________________________\n",
            "Layer (type)                 Output Shape              Param #   \n",
            "=================================================================\n",
            "densenet169 (Model)          (None, 1, 1, 1664)        12642880  \n",
            "_________________________________________________________________\n",
            "global_average_pooling2d_2 ( (None, 1664)              0         \n",
            "_________________________________________________________________\n",
            "dense_5 (Dense)              (None, 128)               213120    \n",
            "_________________________________________________________________\n",
            "batch_normalization_3 (Batch (None, 128)               512       \n",
            "_________________________________________________________________\n",
            "dense_6 (Dense)              (None, 10)                1290      \n",
            "=================================================================\n",
            "Total params: 12,857,802\n",
            "Trainable params: 12,699,146\n",
            "Non-trainable params: 158,656\n",
            "_________________________________________________________________\n",
            "time: 44.5 ms\n"
          ],
          "name": "stdout"
        }
      ]
    },
    {
      "cell_type": "code",
      "metadata": {
        "id": "1ZhQJF14VPnG",
        "colab_type": "code",
        "colab": {
          "base_uri": "https://localhost:8080/",
          "height": 35
        },
        "outputId": "9b0dae4d-35dd-4e8d-d57b-81bdc43823c5"
      },
      "source": [
        "model.compile(\n",
        "    optimizer=tf.keras.optimizers.Adam(1e-3), loss=tf.keras.losses.SparseCategoricalCrossentropy(), metrics=[tf.keras.metrics.sparse_categorical_accuracy]\n",
        ")"
      ],
      "execution_count": null,
      "outputs": [
        {
          "output_type": "stream",
          "text": [
            "time: 29.8 ms\n"
          ],
          "name": "stdout"
        }
      ]
    },
    {
      "cell_type": "code",
      "metadata": {
        "id": "-p3pX0p0doxQ",
        "colab_type": "code",
        "colab": {
          "base_uri": "https://localhost:8080/",
          "height": 35
        },
        "outputId": "de087dbb-6efd-418a-e6e5-eb40252c6f89"
      },
      "source": [
        "import tensorflow as tf\n",
        "\n",
        "red = tf.keras.callbacks.ReduceLROnPlateau(monitor='val_loss', factor=0.5, patience=2, verbose=1, mode='auto', min_lr=1e-7)"
      ],
      "execution_count": null,
      "outputs": [
        {
          "output_type": "stream",
          "text": [
            "time: 1.65 ms\n"
          ],
          "name": "stdout"
        }
      ]
    },
    {
      "cell_type": "code",
      "metadata": {
        "id": "xvoemUYtdqBG",
        "colab_type": "code",
        "colab": {
          "base_uri": "https://localhost:8080/",
          "height": 71
        },
        "outputId": "91c281b8-f870-4ff1-a8e2-1e7deeea3eb0"
      },
      "source": [
        "%load_ext tensorboard\n",
        "! rm -rf ./logs/ "
      ],
      "execution_count": null,
      "outputs": [
        {
          "output_type": "stream",
          "text": [
            "The tensorboard extension is already loaded. To reload it, use:\n",
            "  %reload_ext tensorboard\n",
            "time: 3.38 s\n"
          ],
          "name": "stdout"
        }
      ]
    },
    {
      "cell_type": "code",
      "metadata": {
        "id": "iwogoDIC0nMl",
        "colab_type": "code",
        "colab": {
          "base_uri": "https://localhost:8080/",
          "height": 35
        },
        "outputId": "74bd1617-0299-4b76-adfa-8836a3447744"
      },
      "source": [
        "import tensorflow as tf\n",
        "\n",
        "esb = tf.keras.callbacks.EarlyStopping(monitor = 'val_loss', patience = 5)"
      ],
      "execution_count": null,
      "outputs": [
        {
          "output_type": "stream",
          "text": [
            "time: 1.66 ms\n"
          ],
          "name": "stdout"
        }
      ]
    },
    {
      "cell_type": "code",
      "metadata": {
        "id": "K9jRHuf4dqAy",
        "colab_type": "code",
        "colab": {
          "base_uri": "https://localhost:8080/",
          "height": 35
        },
        "outputId": "4b5d39be-d4cd-4446-ddc2-59d91665fce4"
      },
      "source": [
        "import datetime\n",
        "log_dir = 'logs/fit/' + datetime.datetime.now().strftime(\"%Y%m%d-%H%M%S\")\n",
        "tsb = tf.keras.callbacks.TensorBoard(log_dir=log_dir, histogram_freq=1)"
      ],
      "execution_count": null,
      "outputs": [
        {
          "output_type": "stream",
          "text": [
            "time: 2.92 ms\n"
          ],
          "name": "stdout"
        }
      ]
    },
    {
      "cell_type": "code",
      "metadata": {
        "id": "HS4n9rR7VoeO",
        "colab_type": "code",
        "colab": {
          "base_uri": "https://localhost:8080/",
          "height": 1000
        },
        "outputId": "5069ca72-c4b9-4458-8d2f-3d63583e81df"
      },
      "source": [
        "model.fit(\n",
        "    train_datagen, \n",
        "    epochs=ImgModelProperty['epoch'],\n",
        "    steps_per_epoch=len(X_train) / ImgModelProperty['batch_size'],\n",
        "    validation_data=val_datagen,\n",
        "    callbacks=[red, tsb],\n",
        ")"
      ],
      "execution_count": null,
      "outputs": [
        {
          "output_type": "stream",
          "text": [
            "Epoch 1/60\n",
            "  2/390 [..............................] - ETA: 4:31 - loss: 2.7482 - sparse_categorical_accuracy: 0.0781WARNING:tensorflow:Method (on_train_batch_end) is slow compared to the batch update (0.623471). Check your callbacks.\n",
            "391/390 [==============================] - 55s 141ms/step - loss: 1.4576 - sparse_categorical_accuracy: 0.4840 - val_loss: 1.4291 - val_sparse_categorical_accuracy: 0.5667 - lr: 0.0010\n",
            "Epoch 2/60\n",
            "391/390 [==============================] - 51s 131ms/step - loss: 1.2227 - sparse_categorical_accuracy: 0.5716 - val_loss: 5.5896 - val_sparse_categorical_accuracy: 0.5135 - lr: 0.0010\n",
            "Epoch 3/60\n",
            "391/390 [==============================] - 51s 130ms/step - loss: 1.1545 - sparse_categorical_accuracy: 0.5951 - val_loss: 1.0235 - val_sparse_categorical_accuracy: 0.6643 - lr: 0.0010\n",
            "Epoch 4/60\n",
            "391/390 [==============================] - 51s 131ms/step - loss: 1.0420 - sparse_categorical_accuracy: 0.6344 - val_loss: 3.6531 - val_sparse_categorical_accuracy: 0.6277 - lr: 0.0010\n",
            "Epoch 5/60\n",
            "391/390 [==============================] - 52s 133ms/step - loss: 1.1081 - sparse_categorical_accuracy: 0.6131 - val_loss: 0.9542 - val_sparse_categorical_accuracy: 0.6704 - lr: 0.0010\n",
            "Epoch 6/60\n",
            "391/390 [==============================] - 52s 132ms/step - loss: 1.0166 - sparse_categorical_accuracy: 0.6438 - val_loss: 1.2822 - val_sparse_categorical_accuracy: 0.6769 - lr: 0.0010\n",
            "Epoch 7/60\n",
            "391/390 [==============================] - 52s 132ms/step - loss: 0.9100 - sparse_categorical_accuracy: 0.6810 - val_loss: 0.7216 - val_sparse_categorical_accuracy: 0.7482 - lr: 0.0010\n",
            "Epoch 8/60\n",
            "391/390 [==============================] - 52s 132ms/step - loss: 0.8634 - sparse_categorical_accuracy: 0.6958 - val_loss: 0.7967 - val_sparse_categorical_accuracy: 0.7370 - lr: 0.0010\n",
            "Epoch 9/60\n",
            "391/390 [==============================] - ETA: 0s - loss: 0.8542 - sparse_categorical_accuracy: 0.7022\n",
            "Epoch 00009: ReduceLROnPlateau reducing learning rate to 0.0005000000237487257.\n",
            "391/390 [==============================] - 52s 132ms/step - loss: 0.8542 - sparse_categorical_accuracy: 0.7022 - val_loss: 23.6986 - val_sparse_categorical_accuracy: 0.5012 - lr: 0.0010\n",
            "Epoch 10/60\n",
            "391/390 [==============================] - 52s 132ms/step - loss: 0.8286 - sparse_categorical_accuracy: 0.7100 - val_loss: 0.8079 - val_sparse_categorical_accuracy: 0.7557 - lr: 5.0000e-04\n",
            "Epoch 11/60\n",
            "391/390 [==============================] - 52s 132ms/step - loss: 0.7749 - sparse_categorical_accuracy: 0.7310 - val_loss: 0.6441 - val_sparse_categorical_accuracy: 0.7965 - lr: 5.0000e-04\n",
            "Epoch 12/60\n",
            "391/390 [==============================] - 51s 132ms/step - loss: 0.7367 - sparse_categorical_accuracy: 0.7409 - val_loss: 0.5734 - val_sparse_categorical_accuracy: 0.8076 - lr: 5.0000e-04\n",
            "Epoch 13/60\n",
            "391/390 [==============================] - 52s 132ms/step - loss: 0.7447 - sparse_categorical_accuracy: 0.7414 - val_loss: 0.7721 - val_sparse_categorical_accuracy: 0.7540 - lr: 5.0000e-04\n",
            "Epoch 14/60\n",
            "391/390 [==============================] - ETA: 0s - loss: 0.7607 - sparse_categorical_accuracy: 0.7372\n",
            "Epoch 00014: ReduceLROnPlateau reducing learning rate to 0.0002500000118743628.\n",
            "391/390 [==============================] - 51s 131ms/step - loss: 0.7607 - sparse_categorical_accuracy: 0.7372 - val_loss: 0.8726 - val_sparse_categorical_accuracy: 0.8032 - lr: 5.0000e-04\n",
            "Epoch 15/60\n",
            "391/390 [==============================] - 51s 131ms/step - loss: 0.6687 - sparse_categorical_accuracy: 0.7654 - val_loss: 0.5640 - val_sparse_categorical_accuracy: 0.8170 - lr: 2.5000e-04\n",
            "Epoch 16/60\n",
            "391/390 [==============================] - 51s 132ms/step - loss: 0.6457 - sparse_categorical_accuracy: 0.7736 - val_loss: 0.5731 - val_sparse_categorical_accuracy: 0.8258 - lr: 2.5000e-04\n",
            "Epoch 17/60\n",
            "391/390 [==============================] - ETA: 0s - loss: 0.6359 - sparse_categorical_accuracy: 0.7760\n",
            "Epoch 00017: ReduceLROnPlateau reducing learning rate to 0.0001250000059371814.\n",
            "391/390 [==============================] - 51s 131ms/step - loss: 0.6359 - sparse_categorical_accuracy: 0.7760 - val_loss: 0.5792 - val_sparse_categorical_accuracy: 0.8096 - lr: 2.5000e-04\n",
            "Epoch 18/60\n",
            "391/390 [==============================] - 51s 131ms/step - loss: 0.6073 - sparse_categorical_accuracy: 0.7876 - val_loss: 0.7317 - val_sparse_categorical_accuracy: 0.8261 - lr: 1.2500e-04\n",
            "Epoch 19/60\n",
            "391/390 [==============================] - 51s 131ms/step - loss: 0.5928 - sparse_categorical_accuracy: 0.7927 - val_loss: 0.5491 - val_sparse_categorical_accuracy: 0.8341 - lr: 1.2500e-04\n",
            "Epoch 20/60\n",
            "391/390 [==============================] - 51s 131ms/step - loss: 0.5872 - sparse_categorical_accuracy: 0.7945 - val_loss: 1.1920 - val_sparse_categorical_accuracy: 0.8242 - lr: 1.2500e-04\n",
            "Epoch 21/60\n",
            "391/390 [==============================] - ETA: 0s - loss: 0.5811 - sparse_categorical_accuracy: 0.7977\n",
            "Epoch 00021: ReduceLROnPlateau reducing learning rate to 6.25000029685907e-05.\n",
            "391/390 [==============================] - 51s 130ms/step - loss: 0.5811 - sparse_categorical_accuracy: 0.7977 - val_loss: 0.8100 - val_sparse_categorical_accuracy: 0.8263 - lr: 1.2500e-04\n",
            "Epoch 22/60\n",
            "391/390 [==============================] - 51s 131ms/step - loss: 0.5679 - sparse_categorical_accuracy: 0.8003 - val_loss: 0.9818 - val_sparse_categorical_accuracy: 0.8416 - lr: 6.2500e-05\n",
            "Epoch 23/60\n",
            "391/390 [==============================] - ETA: 0s - loss: 0.5555 - sparse_categorical_accuracy: 0.8039\n",
            "Epoch 00023: ReduceLROnPlateau reducing learning rate to 3.125000148429535e-05.\n",
            "391/390 [==============================] - 51s 130ms/step - loss: 0.5555 - sparse_categorical_accuracy: 0.8039 - val_loss: 0.8986 - val_sparse_categorical_accuracy: 0.8408 - lr: 6.2500e-05\n",
            "Epoch 24/60\n",
            "391/390 [==============================] - 51s 131ms/step - loss: 0.5492 - sparse_categorical_accuracy: 0.8083 - val_loss: 1.2152 - val_sparse_categorical_accuracy: 0.8409 - lr: 3.1250e-05\n",
            "Epoch 25/60\n",
            "391/390 [==============================] - ETA: 0s - loss: 0.5477 - sparse_categorical_accuracy: 0.8075\n",
            "Epoch 00025: ReduceLROnPlateau reducing learning rate to 1.5625000742147677e-05.\n",
            "391/390 [==============================] - 51s 129ms/step - loss: 0.5477 - sparse_categorical_accuracy: 0.8075 - val_loss: 3.1746 - val_sparse_categorical_accuracy: 0.8393 - lr: 3.1250e-05\n",
            "Epoch 26/60\n",
            "391/390 [==============================] - 50s 128ms/step - loss: 0.5448 - sparse_categorical_accuracy: 0.8081 - val_loss: 3.9571 - val_sparse_categorical_accuracy: 0.8381 - lr: 1.5625e-05\n",
            "Epoch 27/60\n",
            "391/390 [==============================] - ETA: 0s - loss: 0.5360 - sparse_categorical_accuracy: 0.8123\n",
            "Epoch 00027: ReduceLROnPlateau reducing learning rate to 7.812500371073838e-06.\n",
            "391/390 [==============================] - 50s 128ms/step - loss: 0.5360 - sparse_categorical_accuracy: 0.8123 - val_loss: 4.3077 - val_sparse_categorical_accuracy: 0.8407 - lr: 1.5625e-05\n",
            "Epoch 28/60\n",
            "391/390 [==============================] - 50s 129ms/step - loss: 0.5342 - sparse_categorical_accuracy: 0.8133 - val_loss: 4.7316 - val_sparse_categorical_accuracy: 0.8403 - lr: 7.8125e-06\n",
            "Epoch 29/60\n",
            "391/390 [==============================] - ETA: 0s - loss: 0.5358 - sparse_categorical_accuracy: 0.8131\n",
            "Epoch 00029: ReduceLROnPlateau reducing learning rate to 3.906250185536919e-06.\n",
            "391/390 [==============================] - 50s 129ms/step - loss: 0.5358 - sparse_categorical_accuracy: 0.8131 - val_loss: 5.9277 - val_sparse_categorical_accuracy: 0.8431 - lr: 7.8125e-06\n",
            "Epoch 30/60\n",
            "391/390 [==============================] - 50s 129ms/step - loss: 0.5356 - sparse_categorical_accuracy: 0.8121 - val_loss: 6.8920 - val_sparse_categorical_accuracy: 0.8416 - lr: 3.9063e-06\n",
            "Epoch 31/60\n",
            "391/390 [==============================] - ETA: 0s - loss: 0.5364 - sparse_categorical_accuracy: 0.8107\n",
            "Epoch 00031: ReduceLROnPlateau reducing learning rate to 1.9531250927684596e-06.\n",
            "391/390 [==============================] - 50s 129ms/step - loss: 0.5364 - sparse_categorical_accuracy: 0.8107 - val_loss: 6.3811 - val_sparse_categorical_accuracy: 0.8438 - lr: 3.9063e-06\n",
            "Epoch 32/60\n",
            "391/390 [==============================] - 51s 130ms/step - loss: 0.5351 - sparse_categorical_accuracy: 0.8126 - val_loss: 8.6345 - val_sparse_categorical_accuracy: 0.8368 - lr: 1.9531e-06\n",
            "Epoch 33/60\n",
            "391/390 [==============================] - ETA: 0s - loss: 0.5375 - sparse_categorical_accuracy: 0.8112\n",
            "Epoch 00033: ReduceLROnPlateau reducing learning rate to 9.765625463842298e-07.\n",
            "391/390 [==============================] - 51s 129ms/step - loss: 0.5375 - sparse_categorical_accuracy: 0.8112 - val_loss: 7.8961 - val_sparse_categorical_accuracy: 0.8396 - lr: 1.9531e-06\n",
            "Epoch 34/60\n",
            "391/390 [==============================] - 50s 129ms/step - loss: 0.5306 - sparse_categorical_accuracy: 0.8128 - val_loss: 6.8185 - val_sparse_categorical_accuracy: 0.8406 - lr: 9.7656e-07\n",
            "Epoch 35/60\n",
            "391/390 [==============================] - ETA: 0s - loss: 0.5362 - sparse_categorical_accuracy: 0.8118\n",
            "Epoch 00035: ReduceLROnPlateau reducing learning rate to 4.882812731921149e-07.\n",
            "391/390 [==============================] - 50s 128ms/step - loss: 0.5362 - sparse_categorical_accuracy: 0.8118 - val_loss: 7.6968 - val_sparse_categorical_accuracy: 0.8412 - lr: 9.7656e-07\n",
            "Epoch 36/60\n",
            "391/390 [==============================] - 50s 127ms/step - loss: 0.5327 - sparse_categorical_accuracy: 0.8130 - val_loss: 8.2813 - val_sparse_categorical_accuracy: 0.8403 - lr: 4.8828e-07\n",
            "Epoch 37/60\n",
            "391/390 [==============================] - ETA: 0s - loss: 0.5320 - sparse_categorical_accuracy: 0.8157\n",
            "Epoch 00037: ReduceLROnPlateau reducing learning rate to 2.4414063659605745e-07.\n",
            "391/390 [==============================] - 49s 127ms/step - loss: 0.5320 - sparse_categorical_accuracy: 0.8157 - val_loss: 8.1668 - val_sparse_categorical_accuracy: 0.8410 - lr: 4.8828e-07\n",
            "Epoch 38/60\n",
            "391/390 [==============================] - 50s 127ms/step - loss: 0.5283 - sparse_categorical_accuracy: 0.8143 - val_loss: 9.9826 - val_sparse_categorical_accuracy: 0.8380 - lr: 2.4414e-07\n",
            "Epoch 39/60\n",
            "391/390 [==============================] - ETA: 0s - loss: 0.5304 - sparse_categorical_accuracy: 0.8145\n",
            "Epoch 00039: ReduceLROnPlateau reducing learning rate to 1.2207031829802872e-07.\n",
            "391/390 [==============================] - 50s 127ms/step - loss: 0.5304 - sparse_categorical_accuracy: 0.8145 - val_loss: 8.3004 - val_sparse_categorical_accuracy: 0.8399 - lr: 2.4414e-07\n",
            "Epoch 40/60\n",
            "391/390 [==============================] - 50s 127ms/step - loss: 0.5363 - sparse_categorical_accuracy: 0.8116 - val_loss: 8.5164 - val_sparse_categorical_accuracy: 0.8399 - lr: 1.2207e-07\n",
            "Epoch 41/60\n",
            "391/390 [==============================] - ETA: 0s - loss: 0.5334 - sparse_categorical_accuracy: 0.8135\n",
            "Epoch 00041: ReduceLROnPlateau reducing learning rate to 1e-07.\n",
            "391/390 [==============================] - 49s 126ms/step - loss: 0.5334 - sparse_categorical_accuracy: 0.8135 - val_loss: 8.3990 - val_sparse_categorical_accuracy: 0.8401 - lr: 1.2207e-07\n",
            "Epoch 42/60\n",
            "391/390 [==============================] - 49s 126ms/step - loss: 0.5333 - sparse_categorical_accuracy: 0.8134 - val_loss: 8.7253 - val_sparse_categorical_accuracy: 0.8397 - lr: 1.0000e-07\n",
            "Epoch 43/60\n",
            "391/390 [==============================] - ETA: 0s - loss: 0.5314 - sparse_categorical_accuracy: 0.8141\n",
            "Epoch 00043: ReduceLROnPlateau reducing learning rate to 1e-07.\n",
            "391/390 [==============================] - 49s 124ms/step - loss: 0.5314 - sparse_categorical_accuracy: 0.8141 - val_loss: 9.4400 - val_sparse_categorical_accuracy: 0.8398 - lr: 1.0000e-07\n",
            "Epoch 44/60\n",
            "391/390 [==============================] - 49s 126ms/step - loss: 0.5345 - sparse_categorical_accuracy: 0.8128 - val_loss: 8.9184 - val_sparse_categorical_accuracy: 0.8400 - lr: 1.0000e-07\n",
            "Epoch 45/60\n",
            "391/390 [==============================] - ETA: 0s - loss: 0.5346 - sparse_categorical_accuracy: 0.8125\n",
            "Epoch 00045: ReduceLROnPlateau reducing learning rate to 1e-07.\n",
            "391/390 [==============================] - 49s 125ms/step - loss: 0.5346 - sparse_categorical_accuracy: 0.8125 - val_loss: 8.7482 - val_sparse_categorical_accuracy: 0.8399 - lr: 1.0000e-07\n",
            "Epoch 46/60\n",
            "391/390 [==============================] - 49s 125ms/step - loss: 0.5309 - sparse_categorical_accuracy: 0.8129 - val_loss: 9.2098 - val_sparse_categorical_accuracy: 0.8402 - lr: 1.0000e-07\n",
            "Epoch 47/60\n",
            "391/390 [==============================] - ETA: 0s - loss: 0.5379 - sparse_categorical_accuracy: 0.8090\n",
            "Epoch 00047: ReduceLROnPlateau reducing learning rate to 1e-07.\n",
            "391/390 [==============================] - 49s 125ms/step - loss: 0.5379 - sparse_categorical_accuracy: 0.8090 - val_loss: 9.9501 - val_sparse_categorical_accuracy: 0.8384 - lr: 1.0000e-07\n",
            "Epoch 48/60\n",
            "391/390 [==============================] - 49s 125ms/step - loss: 0.5344 - sparse_categorical_accuracy: 0.8127 - val_loss: 8.4488 - val_sparse_categorical_accuracy: 0.8401 - lr: 1.0000e-07\n",
            "Epoch 49/60\n",
            "391/390 [==============================] - ETA: 0s - loss: 0.5374 - sparse_categorical_accuracy: 0.8123\n",
            "Epoch 00049: ReduceLROnPlateau reducing learning rate to 1e-07.\n",
            "391/390 [==============================] - 49s 124ms/step - loss: 0.5374 - sparse_categorical_accuracy: 0.8123 - val_loss: 8.1944 - val_sparse_categorical_accuracy: 0.8401 - lr: 1.0000e-07\n",
            "Epoch 50/60\n",
            "391/390 [==============================] - 49s 125ms/step - loss: 0.5285 - sparse_categorical_accuracy: 0.8150 - val_loss: 7.9025 - val_sparse_categorical_accuracy: 0.8406 - lr: 1.0000e-07\n",
            "Epoch 51/60\n",
            "391/390 [==============================] - ETA: 0s - loss: 0.5308 - sparse_categorical_accuracy: 0.8115\n",
            "Epoch 00051: ReduceLROnPlateau reducing learning rate to 1e-07.\n",
            "391/390 [==============================] - 51s 130ms/step - loss: 0.5308 - sparse_categorical_accuracy: 0.8115 - val_loss: 9.4766 - val_sparse_categorical_accuracy: 0.8390 - lr: 1.0000e-07\n",
            "Epoch 52/60\n",
            "391/390 [==============================] - 51s 130ms/step - loss: 0.5371 - sparse_categorical_accuracy: 0.8100 - val_loss: 7.9283 - val_sparse_categorical_accuracy: 0.8416 - lr: 1.0000e-07\n",
            "Epoch 53/60\n",
            "391/390 [==============================] - ETA: 0s - loss: 0.5256 - sparse_categorical_accuracy: 0.8160\n",
            "Epoch 00053: ReduceLROnPlateau reducing learning rate to 1e-07.\n",
            "391/390 [==============================] - 52s 132ms/step - loss: 0.5256 - sparse_categorical_accuracy: 0.8160 - val_loss: 11.2642 - val_sparse_categorical_accuracy: 0.8361 - lr: 1.0000e-07\n",
            "Epoch 54/60\n",
            "391/390 [==============================] - 51s 130ms/step - loss: 0.5354 - sparse_categorical_accuracy: 0.8127 - val_loss: 10.0119 - val_sparse_categorical_accuracy: 0.8397 - lr: 1.0000e-07\n",
            "Epoch 55/60\n",
            "391/390 [==============================] - ETA: 0s - loss: 0.5335 - sparse_categorical_accuracy: 0.8126\n",
            "Epoch 00055: ReduceLROnPlateau reducing learning rate to 1e-07.\n",
            "391/390 [==============================] - 51s 131ms/step - loss: 0.5335 - sparse_categorical_accuracy: 0.8126 - val_loss: 10.5655 - val_sparse_categorical_accuracy: 0.8381 - lr: 1.0000e-07\n",
            "Epoch 56/60\n",
            "391/390 [==============================] - 50s 129ms/step - loss: 0.5292 - sparse_categorical_accuracy: 0.8147 - val_loss: 9.6595 - val_sparse_categorical_accuracy: 0.8381 - lr: 1.0000e-07\n",
            "Epoch 57/60\n",
            "391/390 [==============================] - ETA: 0s - loss: 0.5305 - sparse_categorical_accuracy: 0.8133\n",
            "Epoch 00057: ReduceLROnPlateau reducing learning rate to 1e-07.\n",
            "391/390 [==============================] - 50s 129ms/step - loss: 0.5305 - sparse_categorical_accuracy: 0.8133 - val_loss: 8.7355 - val_sparse_categorical_accuracy: 0.8398 - lr: 1.0000e-07\n",
            "Epoch 58/60\n",
            "391/390 [==============================] - 50s 128ms/step - loss: 0.5354 - sparse_categorical_accuracy: 0.8104 - val_loss: 8.8467 - val_sparse_categorical_accuracy: 0.8397 - lr: 1.0000e-07\n",
            "Epoch 59/60\n",
            "391/390 [==============================] - ETA: 0s - loss: 0.5310 - sparse_categorical_accuracy: 0.8146\n",
            "Epoch 00059: ReduceLROnPlateau reducing learning rate to 1e-07.\n",
            "391/390 [==============================] - 50s 128ms/step - loss: 0.5310 - sparse_categorical_accuracy: 0.8146 - val_loss: 9.6379 - val_sparse_categorical_accuracy: 0.8392 - lr: 1.0000e-07\n",
            "Epoch 60/60\n",
            "391/390 [==============================] - 49s 125ms/step - loss: 0.5335 - sparse_categorical_accuracy: 0.8113 - val_loss: 8.1809 - val_sparse_categorical_accuracy: 0.8413 - lr: 1.0000e-07\n"
          ],
          "name": "stdout"
        },
        {
          "output_type": "execute_result",
          "data": {
            "text/plain": [
              "<tensorflow.python.keras.callbacks.History at 0x7f3526554dd8>"
            ]
          },
          "metadata": {
            "tags": []
          },
          "execution_count": 42
        },
        {
          "output_type": "stream",
          "text": [
            "time: 51min 4s\n"
          ],
          "name": "stdout"
        }
      ]
    },
    {
      "cell_type": "code",
      "metadata": {
        "id": "XSYl0V5ydqAc",
        "colab_type": "code",
        "colab": {
          "base_uri": "https://localhost:8080/",
          "height": 839
        },
        "outputId": "04de1929-664b-4616-e953-d130df776a1a"
      },
      "source": [
        "%tensorboard --logdir logs/fit"
      ],
      "execution_count": null,
      "outputs": []
    },
    {
      "cell_type": "code",
      "metadata": {
        "id": "FgUJXrR8Txw_",
        "colab_type": "code",
        "colab": {
          "base_uri": "https://localhost:8080/",
          "height": 35
        },
        "outputId": "69b594f0-2e41-4aca-8551-65ab9f1f9205"
      },
      "source": [
        "# tf.keras.applications.InceptionV3(include_top=False, weights='imagenet', input_shape=(224, 224, 3)).summary()"
      ],
      "execution_count": null,
      "outputs": [
        {
          "output_type": "stream",
          "text": [
            "time: 1.16 ms\n"
          ],
          "name": "stdout"
        }
      ]
    }
  ]
}